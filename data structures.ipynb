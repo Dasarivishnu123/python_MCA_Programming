{
 "cells": [
  {
   "cell_type": "code",
   "execution_count": 2,
   "id": "8db46826",
   "metadata": {},
   "outputs": [
    {
     "name": "stdout",
     "output_type": "stream",
     "text": [
      "['apple', 'cherry', 'avacado']\n"
     ]
    }
   ],
   "source": [
    "x=[]    #empty\n",
    "x=()    #empty\n",
    "y=[1,2,3]    #direct instilization\n",
    "z=[]\n",
    "z.append(\"apple\")  #adding a single value\n",
    "z.append(\"cherry\")\n",
    "z.append(\"avacado\")\n",
    "print(z)\n"
   ]
  },
  {
   "cell_type": "code",
   "execution_count": 3,
   "id": "855b1ad8",
   "metadata": {},
   "outputs": [
    {
     "name": "stdout",
     "output_type": "stream",
     "text": [
      "[1, 2, 3] [4, 5, 6] [1, 2, 3, 4, 5, 6]\n"
     ]
    }
   ],
   "source": [
    "x=[1,2,3]\n",
    "y=[4,5,6]\n",
    "z=x+y    #concatenate list\n",
    "print(x,y,z)"
   ]
  },
  {
   "cell_type": "code",
   "execution_count": 5,
   "id": "16e1a341",
   "metadata": {},
   "outputs": [
    {
     "name": "stdout",
     "output_type": "stream",
     "text": [
      "[1, 1, 1, 1, 1, 1, 1, 1, 1, 1]\n",
      "[1, 2]\n",
      "[1, 1, 1, 1, 1, 1, 1, 1, 1, 1, 1, 1, 1, 1, 1, 1, 1, 1, 1, 1]\n",
      "[1, 1, 1, 1, 1, 1, 1, 1, 1, 1]\n"
     ]
    }
   ],
   "source": [
    "#list of duplicates\n",
    "\n",
    "a=[1]*10  \n",
    "print(a)\n",
    "b=[1,2]\n",
    "c=a*2\n",
    "print(b)\n",
    "print(c)\n",
    "print(a)\n",
    "\n"
   ]
  },
  {
   "cell_type": "code",
   "execution_count": 8,
   "id": "970ae6ef",
   "metadata": {},
   "outputs": [
    {
     "name": "stdout",
     "output_type": "stream",
     "text": [
      "1\n",
      "1\n",
      "1\n",
      "1\n",
      "1\n",
      "1\n",
      "1\n",
      "1\n",
      "1\n",
      "1\n",
      "1\n",
      "1 1\n"
     ]
    }
   ],
   "source": [
    "#displaying a single item at a time\n",
    "for item in a:\n",
    "    print(item)\n",
    "#single element using index\n",
    "print(a[0])\n",
    "print(a[3],a[5])\n",
    "\n",
    "\n",
    "\n",
    "\n",
    "\n"
   ]
  },
  {
   "cell_type": "code",
   "execution_count": 9,
   "id": "8500c776",
   "metadata": {},
   "outputs": [],
   "source": [
    "students=[\"Bhargavu\",\"Sameer\",\"ajay\",\"balaji\",\"abhi\",\"vamsi\",\"ram\",\"ajay babu\",\"srikanth\",\"manikanta\",\"roopa\",\"rohitha\",\"lahari\",\"indu\",\"indumathi\",\"Indupriya\",\"shirisha\",\"sneha\",\"Poojitha\",\"anusha\",\"ramya\"]\n"
   ]
  },
  {
   "cell_type": "code",
   "execution_count": 4,
   "id": "1bacf0e7",
   "metadata": {},
   "outputs": [
    {
     "data": {
      "text/plain": [
       "[13, 15, 19]"
      ]
     },
     "execution_count": 4,
     "metadata": {},
     "output_type": "execute_result"
    }
   ],
   "source": [
    "x=[11,12,13,15,19]\n",
    "x[0:3]\n",
    "x[2:5]"
   ]
  },
  {
   "cell_type": "code",
   "execution_count": null,
   "id": "f6c84f3f",
   "metadata": {},
   "outputs": [
    {
     "data": {
      "text/plain": [
       "''"
      ]
     },
     "execution_count": 10,
     "metadata": {},
     "output_type": "execute_result"
    }
   ],
   "source": [
    "\n",
    "name=\"william shakespear\"\n",
    "name[7:3]"
   ]
  },
  {
   "cell_type": "code",
   "execution_count": 23,
   "id": "c8a8a8ce",
   "metadata": {},
   "outputs": [
    {
     "data": {
      "text/plain": [
       "'shakespear'"
      ]
     },
     "execution_count": 23,
     "metadata": {},
     "output_type": "execute_result"
    }
   ],
   "source": [
    "# slicing syntax\n",
    "#var[start : stop : step]\n",
    "name=\"william shakespear\"\n",
    "name[:7]\n",
    "name[8:]"
   ]
  },
  {
   "cell_type": "code",
   "execution_count": 39,
   "id": "569fbb27",
   "metadata": {},
   "outputs": [
    {
     "data": {
      "text/plain": [
       "'awnh'"
      ]
     },
     "execution_count": 39,
     "metadata": {},
     "output_type": "execute_result"
    }
   ],
   "source": [
    "name=\"yaswanth\"\n",
    "name[: : 2]\n",
    "name[1 : : 2]"
   ]
  },
  {
   "cell_type": "code",
   "execution_count": 37,
   "id": "77b257de",
   "metadata": {},
   "outputs": [
    {
     "data": {
      "text/plain": [
       "'sakmhma ns'"
      ]
     },
     "execution_count": 37,
     "metadata": {},
     "output_type": "execute_result"
    }
   ],
   "source": [
    "name=\"shaik mohammad anis\"\n",
    "name[: : 2]"
   ]
  },
  {
   "cell_type": "code",
   "execution_count": 1,
   "id": "ee98592d",
   "metadata": {},
   "outputs": [
    {
     "name": "stdout",
     "output_type": "stream",
     "text": [
      "0\n",
      "1\n",
      "2\n",
      "3\n",
      "4\n",
      "Loop completed successfully\n"
     ]
    }
   ],
   "source": [
    "for i in range(5):\n",
    "    print(i)\n",
    "else:\n",
    "    print(\"Loop completed successfully\")"
   ]
  },
  {
   "cell_type": "code",
   "execution_count": 12,
   "id": "a96e7e13",
   "metadata": {},
   "outputs": [
    {
     "ename": "NameError",
     "evalue": "name 'fname' is not defined",
     "output_type": "error",
     "traceback": [
      "\u001b[31m---------------------------------------------------------------------------\u001b[39m",
      "\u001b[31mNameError\u001b[39m                                 Traceback (most recent call last)",
      "\u001b[36mCell\u001b[39m\u001b[36m \u001b[39m\u001b[32mIn[12]\u001b[39m\u001b[32m, line 2\u001b[39m\n\u001b[32m      1\u001b[39m name = \u001b[33m\"\u001b[39m\u001b[33myaswanth haribabu\u001b[39m\u001b[33m\"\u001b[39m\n\u001b[32m----> \u001b[39m\u001b[32m2\u001b[39m \u001b[43mfname\u001b[49m[\u001b[32m0\u001b[39m : \u001b[32m7\u001b[39m]\n",
      "\u001b[31mNameError\u001b[39m: name 'fname' is not defined"
     ]
    }
   ],
   "source": [
    "name = \"yaswanth haribabu\"\n",
    "fname[0 : 7]\n"
   ]
  },
  {
   "cell_type": "code",
   "execution_count": null,
   "id": "bfd4ee46",
   "metadata": {},
   "outputs": [],
   "source": []
  },
  {
   "cell_type": "markdown",
   "id": "df085dab",
   "metadata": {},
   "source": [
    "condition based\n",
    "new list =operation loop condition\n",
    "xern=[for i in x if i%2==0]\n",
    "songs =[file for the in data  is file wounderfull(.mp3)]"
   ]
  },
  {
   "cell_type": "markdown",
   "id": "9ab08461",
   "metadata": {},
   "source": [
    "maping \n",
    "apply operation on data \n",
    "\n",
    "filtering"
   ]
  },
  {
   "cell_type": "code",
   "execution_count": 12,
   "id": "fb6afc84",
   "metadata": {},
   "outputs": [
    {
     "name": "stdout",
     "output_type": "stream",
     "text": [
      "['pushpa', 'kalki', 'bommarillu', 'santosham', 'nuvunakunachav', 'aarya', 'julay', 'gangothri', 'paradise', 'satyamurthi', 'lucky bhaskar', 'kalisundam raa', 'ninne pelladutha', 'preminchukundam raa']\n",
      "[6, 5, 10, 9, 14, 5, 5, 9, 8, 11, 13, 14, 16, 19]\n"
     ]
    }
   ],
   "source": [
    "movies=['pushpa','kalki','bommarillu','santosham','nuvunakunachav','aarya','julay','gangothri','paradise','satyamurthi','lucky bhaskar','kalisundam raa','ninne pelladutha','preminchukundam raa',]\n",
    "movielen=[]\n",
    "for movie in movies:\n",
    "    size=len(movie)\n",
    "    movielen.append(size)\n",
    "print(movies)\n",
    "print(movielen)"
   ]
  },
  {
   "cell_type": "code",
   "execution_count": 13,
   "id": "9e9e54c3",
   "metadata": {},
   "outputs": [
    {
     "name": "stdout",
     "output_type": "stream",
     "text": [
      "['pushpa', 'kalki', 'bommarillu', 'santosham', 'nuvunakunachav', 'aarya', 'julay', 'gangothri', 'paradise', 'satyamurthi', 'lucky bhaskar', 'kalisundam raa', 'ninne pelladutha', 'preminchukundam raa']\n",
      "[6, 5, 10, 9, 14, 5, 5, 9, 8, 11, 13, 14, 16, 19]\n"
     ]
    }
   ],
   "source": [
    "movielen=[len(movie) for movie in movies]\n",
    "print(movies)\n",
    "print(movielen)"
   ]
  },
  {
   "cell_type": "code",
   "execution_count": 3,
   "id": "3ac1db64",
   "metadata": {},
   "outputs": [
    {
     "name": "stdout",
     "output_type": "stream",
     "text": [
      "(1, 2, 3)\n"
     ]
    }
   ],
   "source": [
    "my_tuple =(1,2,3)\n",
    "print(my_tuple)"
   ]
  },
  {
   "cell_type": "code",
   "execution_count": 4,
   "id": "de2b3491",
   "metadata": {},
   "outputs": [
    {
     "name": "stdout",
     "output_type": "stream",
     "text": [
      "(1, 'hello', 3, 4)\n"
     ]
    }
   ],
   "source": [
    "my_tuple = (1, \"hello\", 3,4)\n",
    "print(my_tuple)"
   ]
  },
  {
   "cell_type": "code",
   "execution_count": 11,
   "id": "5d4ca47e",
   "metadata": {},
   "outputs": [
    {
     "name": "stdout",
     "output_type": "stream",
     "text": [
      "('keyboard', [4, 5, 6], (29809, 7))\n"
     ]
    }
   ],
   "source": [
    "my_tuple =(\"keyboard\" , [4,5,6],(29809,7))\n",
    "print(my_tuple)"
   ]
  },
  {
   "cell_type": "code",
   "execution_count": 10,
   "id": "ebcdad63",
   "metadata": {},
   "outputs": [
    {
     "name": "stdout",
     "output_type": "stream",
     "text": [
      "(3, 4, 5, 'grapes')\n"
     ]
    }
   ],
   "source": [
    "my_tuple = 3,4,5, \"grapes\"\n",
    "print(my_tuple)"
   ]
  },
  {
   "cell_type": "code",
   "execution_count": 12,
   "id": "4f613882",
   "metadata": {},
   "outputs": [
    {
     "name": "stdout",
     "output_type": "stream",
     "text": [
      "r\n",
      "b\n"
     ]
    }
   ],
   "source": [
    "my_tuple = ('r','g','y','j','t','b','l',)\n",
    "print(my_tuple[0])\n",
    "print(my_tuple[5])"
   ]
  },
  {
   "cell_type": "code",
   "execution_count": 17,
   "id": "942f9239",
   "metadata": {},
   "outputs": [
    {
     "name": "stdout",
     "output_type": "stream",
     "text": [
      "y\n",
      "6\n"
     ]
    }
   ],
   "source": [
    "n_tuple =(\"keyboard\",[5,6,8],(3,6,0))\n",
    "print(n_tuple[0][2])\n",
    "print(n_tuple[1][1])"
   ]
  },
  {
   "cell_type": "code",
   "execution_count": 18,
   "id": "2a301874",
   "metadata": {},
   "outputs": [
    {
     "name": "stdout",
     "output_type": "stream",
     "text": [
      "(3, 5, 7, 6, 7, 5)\n"
     ]
    }
   ],
   "source": [
    "print((3,5,7)+(6,7,5))"
   ]
  },
  {
   "cell_type": "code",
   "execution_count": 22,
   "id": "6a4103f0",
   "metadata": {},
   "outputs": [
    {
     "name": "stdout",
     "output_type": "stream",
     "text": [
      "('repeat', 'repeat', 'repeat', 'repeat', 'repeat', 'repeat', 'repeat', 'repeat')\n"
     ]
    }
   ],
   "source": [
    "print((\"repeat\",)*8)"
   ]
  },
  {
   "cell_type": "code",
   "execution_count": 24,
   "id": "89049ae1",
   "metadata": {},
   "outputs": [
    {
     "name": "stdout",
     "output_type": "stream",
     "text": [
      "1\n",
      "2\n"
     ]
    }
   ],
   "source": [
    "\n",
    "my_tuple =('p','y','i','j','u',)\n",
    "print(my_tuple.count('p'))\n",
    "print((my_tuple.index('i')))"
   ]
  },
  {
   "cell_type": "code",
   "execution_count": 2,
   "id": "18f9f5c2",
   "metadata": {},
   "outputs": [
    {
     "name": "stdout",
     "output_type": "stream",
     "text": [
      "0\n",
      "1\n",
      "2\n",
      "3\n",
      "4\n"
     ]
    }
   ],
   "source": [
    "for i in range(5):\n",
    "    print(i)"
   ]
  },
  {
   "cell_type": "code",
   "execution_count": 5,
   "id": "f8993b2a",
   "metadata": {},
   "outputs": [
    {
     "name": "stdout",
     "output_type": "stream",
     "text": [
      "0\n",
      "1\n",
      "2\n",
      "3\n",
      "4\n",
      "5\n"
     ]
    }
   ],
   "source": [
    "for i in range(10):\n",
    "    if i == 6:\n",
    "        break\n",
    "    print(i)"
   ]
  },
  {
   "cell_type": "code",
   "execution_count": 6,
   "id": "9fe0bb7f",
   "metadata": {},
   "outputs": [
    {
     "name": "stdout",
     "output_type": "stream",
     "text": [
      "1\n",
      "3\n",
      "5\n",
      "7\n",
      "9\n"
     ]
    }
   ],
   "source": [
    "for i in range(10):\n",
    "    if i % 2 == 0:\n",
    "        continue\n",
    "    print(i)"
   ]
  },
  {
   "cell_type": "code",
   "execution_count": 7,
   "id": "b73f311a",
   "metadata": {},
   "outputs": [
    {
     "name": "stdout",
     "output_type": "stream",
     "text": [
      "0\n",
      "1\n",
      "2\n",
      "3\n",
      "4\n"
     ]
    }
   ],
   "source": [
    "for i in range(5):\n",
    "    if i == 2:\n",
    "        pass  # Do nothing\n",
    "    print(i)"
   ]
  },
  {
   "cell_type": "code",
   "execution_count": 8,
   "id": "6aab0f41",
   "metadata": {},
   "outputs": [
    {
     "name": "stdout",
     "output_type": "stream",
     "text": [
      "0\n",
      "1\n",
      "2\n",
      "3\n",
      "4\n"
     ]
    }
   ],
   "source": [
    "for i in range(10):\n",
    "    if i == 5:\n",
    "        break\n",
    "    print(i)\n"
   ]
  },
  {
   "cell_type": "code",
   "execution_count": null,
   "id": "6523d4b6",
   "metadata": {},
   "outputs": [],
   "source": []
  }
 ],
 "metadata": {
  "kernelspec": {
   "display_name": "Python 3",
   "language": "python",
   "name": "python3"
  },
  "language_info": {
   "codemirror_mode": {
    "name": "ipython",
    "version": 3
   },
   "file_extension": ".py",
   "mimetype": "text/x-python",
   "name": "python",
   "nbconvert_exporter": "python",
   "pygments_lexer": "ipython3",
   "version": "3.13.6"
  }
 },
 "nbformat": 4,
 "nbformat_minor": 5
}
