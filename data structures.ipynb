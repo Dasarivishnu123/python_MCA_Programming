{
 "cells": [
  {
   "cell_type": "code",
   "execution_count": 2,
   "id": "8db46826",
   "metadata": {},
   "outputs": [
    {
     "name": "stdout",
     "output_type": "stream",
     "text": [
      "['apple', 'cherry', 'avacado']\n"
     ]
    }
   ],
   "source": [
    "x=[]    #empty\n",
    "x=()    #empty\n",
    "y=[1,2,3]    #direct instilization\n",
    "z=[]\n",
    "z.append(\"apple\")  #adding a single value\n",
    "z.append(\"cherry\")\n",
    "z.append(\"avacado\")\n",
    "print(z)\n"
   ]
  },
  {
   "cell_type": "code",
   "execution_count": 3,
   "id": "855b1ad8",
   "metadata": {},
   "outputs": [
    {
     "name": "stdout",
     "output_type": "stream",
     "text": [
      "[1, 2, 3] [4, 5, 6] [1, 2, 3, 4, 5, 6]\n"
     ]
    }
   ],
   "source": [
    "x=[1,2,3]\n",
    "y=[4,5,6]\n",
    "z=x+y    #concatenate list\n",
    "print(x,y,z)"
   ]
  },
  {
   "cell_type": "code",
   "execution_count": 5,
   "id": "16e1a341",
   "metadata": {},
   "outputs": [
    {
     "name": "stdout",
     "output_type": "stream",
     "text": [
      "[1, 1, 1, 1, 1, 1, 1, 1, 1, 1]\n",
      "[1, 2]\n",
      "[1, 1, 1, 1, 1, 1, 1, 1, 1, 1, 1, 1, 1, 1, 1, 1, 1, 1, 1, 1]\n",
      "[1, 1, 1, 1, 1, 1, 1, 1, 1, 1]\n"
     ]
    }
   ],
   "source": [
    "#list of duplicates\n",
    "\n",
    "a=[1]*10  \n",
    "print(a)\n",
    "b=[1,2]\n",
    "c=a*2\n",
    "print(b)\n",
    "print(c)\n",
    "print(a)\n",
    "\n"
   ]
  },
  {
   "cell_type": "code",
   "execution_count": 8,
   "id": "970ae6ef",
   "metadata": {},
   "outputs": [
    {
     "name": "stdout",
     "output_type": "stream",
     "text": [
      "1\n",
      "1\n",
      "1\n",
      "1\n",
      "1\n",
      "1\n",
      "1\n",
      "1\n",
      "1\n",
      "1\n",
      "1\n",
      "1 1\n"
     ]
    }
   ],
   "source": [
    "#displaying a single item at a time\n",
    "for item in a:\n",
    "    print(item)\n",
    "#single element using index\n",
    "print(a[0])\n",
    "print(a[3],a[5])\n",
    "\n",
    "\n",
    "\n",
    "\n",
    "\n"
   ]
  },
  {
   "cell_type": "code",
   "execution_count": 9,
   "id": "8500c776",
   "metadata": {},
   "outputs": [],
   "source": [
    "students=[\"Bhargavu\",\"Sameer\",\"ajay\",\"balaji\",\"abhi\",\"vamsi\",\"ram\",\"ajay babu\",\"srikanth\",\"manikanta\",\"roopa\",\"rohitha\",\"lahari\",\"indu\",\"indumathi\",\"Indupriya\",\"shirisha\",\"sneha\",\"Poojitha\",\"anusha\",\"ramya\"]\n"
   ]
  },
  {
   "cell_type": "code",
   "execution_count": null,
   "id": "1bacf0e7",
   "metadata": {},
   "outputs": [],
   "source": []
  }
 ],
 "metadata": {
  "kernelspec": {
   "display_name": "Python 3",
   "language": "python",
   "name": "python3"
  },
  "language_info": {
   "codemirror_mode": {
    "name": "ipython",
    "version": 3
   },
   "file_extension": ".py",
   "mimetype": "text/x-python",
   "name": "python",
   "nbconvert_exporter": "python",
   "pygments_lexer": "ipython3",
   "version": "3.13.6"
  }
 },
 "nbformat": 4,
 "nbformat_minor": 5
}
