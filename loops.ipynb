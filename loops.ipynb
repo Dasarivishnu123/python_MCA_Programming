{
 "cells": [
  {
   "cell_type": "markdown",
   "id": "ec7d0671",
   "metadata": {},
   "source": [
    "Loops\n"
   ]
  },
  {
   "cell_type": "code",
   "execution_count": 1,
   "id": "65f2703a",
   "metadata": {},
   "outputs": [
    {
     "name": "stdout",
     "output_type": "stream",
     "text": [
      "1\n",
      "3\n",
      "5\n",
      "7\n",
      "9\n",
      "11\n",
      "13\n",
      "15\n",
      "17\n",
      "19\n"
     ]
    }
   ],
   "source": [
    "for i in range(1,20,2):\n",
    "    print(i)"
   ]
  },
  {
   "cell_type": "code",
   "execution_count": 3,
   "id": "7f49d76a",
   "metadata": {},
   "outputs": [
    {
     "name": "stdout",
     "output_type": "stream",
     "text": [
      "0\n",
      "5\n",
      "10\n"
     ]
    }
   ],
   "source": [
    "for i in range(0,15,5):\n",
    "    print(i)"
   ]
  },
  {
   "cell_type": "code",
   "execution_count": 8,
   "id": "ffc82b22",
   "metadata": {},
   "outputs": [
    {
     "name": "stdout",
     "output_type": "stream",
     "text": [
      "100,102,104,106,108,110,112,114,116,118,120,122,124,126,128,130,132,134,136,138,140,142,144,146,148,150,152,154,156,158,160,162,164,166,168,170,172,174,176,178,180,182,184,186,188,190,192,194,196,198,200,"
     ]
    }
   ],
   "source": [
    "for num in range(100,201,2):\n",
    "    print(num, end=\",\")"
   ]
  },
  {
   "cell_type": "code",
   "execution_count": 17,
   "id": "276f6f14",
   "metadata": {},
   "outputs": [
    {
     "name": "stdout",
     "output_type": "stream",
     "text": [
      "['red', 'blue', 'green']\n"
     ]
    }
   ],
   "source": [
    "colour = ['red','blue','green']\n",
    "print(colour)\n"
   ]
  },
  {
   "cell_type": "code",
   "execution_count": 22,
   "id": "87d4f5e9",
   "metadata": {},
   "outputs": [
    {
     "name": "stdout",
     "output_type": "stream",
     "text": [
      "['arya', 'pusha', 'journey', 'happy days', 'adavi lo arapulu', 'debba debba', 'gampa kinda kodipetta']\n"
     ]
    }
   ],
   "source": [
    "movies = ['arya','pusha','journey','happy days','adavi lo arapulu','debba debba','gampa kinda kodipetta']\n",
    "print(movies)"
   ]
  },
  {
   "cell_type": "code",
   "execution_count": 21,
   "id": "347421d5",
   "metadata": {},
   "outputs": [
    {
     "name": "stdout",
     "output_type": "stream",
     "text": [
      "1,3,5,7,9,11,13,15,17,19,21,23,25,27,29,31,33,35,37,39,41,43,45,47,49,51,53,55,57,59,61,63,65,67,69,71,73,75,77,79,81,83,85,87,89,91,93,95,97,99,"
     ]
    }
   ],
   "source": [
    "for i in range(1,101,2):\n",
    "    print(i, end=\",\")"
   ]
  },
  {
   "cell_type": "code",
   "execution_count": 1,
   "id": "4b96eec4",
   "metadata": {},
   "outputs": [
    {
     "name": "stdout",
     "output_type": "stream",
     "text": [
      "-10,-7,-4,-1,2,5,8,"
     ]
    }
   ],
   "source": [
    "for i in range(-10,10,3):\n",
    "    print(i,end=\",\")"
   ]
  },
  {
   "cell_type": "markdown",
   "id": "89651a1c",
   "metadata": {},
   "source": [
    "Loop with conditions"
   ]
  },
  {
   "cell_type": "code",
   "execution_count": 5,
   "id": "ae6d80a0",
   "metadata": {},
   "outputs": [
    {
     "name": "stdout",
     "output_type": "stream",
     "text": [
      "2\n",
      "4\n",
      "6\n",
      "8\n",
      "10\n"
     ]
    }
   ],
   "source": [
    "for i in range(1,11):\n",
    "    if i %2==0:\n",
    "        print(i)"
   ]
  },
  {
   "cell_type": "code",
   "execution_count": 6,
   "id": "8b03a9d2",
   "metadata": {},
   "outputs": [
    {
     "name": "stdout",
     "output_type": "stream",
     "text": [
      "1\n",
      "3\n",
      "5\n",
      "7\n",
      "9\n"
     ]
    }
   ],
   "source": [
    "for i in range(1,11):\n",
    "    if i %2==1:\n",
    "        print(i)"
   ]
  },
  {
   "cell_type": "code",
   "execution_count": 7,
   "id": "324e96a5",
   "metadata": {},
   "outputs": [
    {
     "name": "stdout",
     "output_type": "stream",
     "text": [
      "1\n",
      "3\n",
      "5\n",
      "7\n",
      "9\n"
     ]
    }
   ],
   "source": [
    "for i in range(1,11):\n",
    "    if i %2!=0:\n",
    "        print(i)"
   ]
  },
  {
   "cell_type": "code",
   "execution_count": 21,
   "id": "0779d3cc",
   "metadata": {},
   "outputs": [
    {
     "name": "stdout",
     "output_type": "stream",
     "text": [
      "odd number\n",
      "odd number\n",
      "odd number\n",
      "odd number\n",
      "144\n",
      "odd number\n"
     ]
    }
   ],
   "source": [
    "# display squares of even number\n",
    "nums=[1,5,11,3,12,15]\n",
    "for i in nums:\n",
    "    if i%2==0:\n",
    "        s=i**2\n",
    "        print(s)\n",
    "    else:\n",
    "        print(\"odd number\")"
   ]
  },
  {
   "cell_type": "code",
   "execution_count": 20,
   "id": "0d3161f3",
   "metadata": {},
   "outputs": [
    {
     "name": "stdout",
     "output_type": "stream",
     "text": [
      "even number\n",
      "even number\n",
      "even number\n",
      "even number\n",
      "1728\n",
      "even number\n"
     ]
    }
   ],
   "source": [
    "# display squares of odd number\n",
    "nums=[1,5,11,3,12,15]\n",
    "for i in nums:\n",
    "    if i%2==0:\n",
    "        s=i**3\n",
    "        print(s)\n",
    "    else:\n",
    "        print(\"even number\")"
   ]
  },
  {
   "cell_type": "code",
   "execution_count": 29,
   "id": "905924b0",
   "metadata": {},
   "outputs": [
    {
     "name": "stdout",
     "output_type": "stream",
     "text": [
      "the area for 3 is 28.26\n",
      "the area for 5 is 78.5\n",
      "the area for 6 is 113.04\n",
      "the area for 11 is 379.94\n",
      "the area for 10 is 314.0\n"
     ]
    }
   ],
   "source": [
    "#cal the area of circles\n",
    "radius=[3,5,6,11,10]\n",
    "for r in radius:\n",
    "    area=3.14*r**2\n",
    "    print(f\"the area for {r} is {area}\")"
   ]
  },
  {
   "cell_type": "code",
   "execution_count": 32,
   "id": "45a545ca",
   "metadata": {},
   "outputs": [
    {
     "name": "stdout",
     "output_type": "stream",
     "text": [
      "unmatched air traffice control\n"
     ]
    }
   ],
   "source": [
    "Videogames=['free fire','pubg','chess','unmatched air traffice control','infinite flight','simulator indonesia']\n",
    "for name in Videogames:\n",
    "    if name.startswith('u'):\n",
    "        print(name)"
   ]
  },
  {
   "cell_type": "code",
   "execution_count": 20,
   "id": "70ae66a3",
   "metadata": {},
   "outputs": [
    {
     "name": "stdout",
     "output_type": "stream",
     "text": [
      "book->['the final empire', 'warbaker', 'elantins', 'the well of assension', 'the alloy of law', 'hero of ages', 'the way of kings']\n",
      "book->['the final empire', 'warbaker', 'elantins', 'the well of assension', 'the alloy of law', 'hero of ages', 'the way of kings']\n",
      "book->['the final empire', 'warbaker', 'elantins', 'the well of assension', 'the alloy of law', 'hero of ages', 'the way of kings']\n",
      "book->['the final empire', 'warbaker', 'elantins', 'the well of assension', 'the alloy of law', 'hero of ages', 'the way of kings']\n",
      "book->['the final empire', 'warbaker', 'elantins', 'the well of assension', 'the alloy of law', 'hero of ages', 'the way of kings']\n"
     ]
    }
   ],
   "source": [
    "books=['the final empire','warbaker','elantins','the well of assension','the alloy of law','hero of ages','the way of kings']\n",
    "for book in books:\n",
    "    if \"the\" in book or \"of\" in book:\n",
    "        print(f\"book->{books}\")"
   ]
  },
  {
   "cell_type": "markdown",
   "id": "37bc1546",
   "metadata": {},
   "source": [
    "Aggregation\n",
    "\n",
    "Sum,count,min,max,avg,median"
   ]
  },
  {
   "cell_type": "code",
   "execution_count": 4,
   "id": "bb813b88",
   "metadata": {},
   "outputs": [
    {
     "name": "stdout",
     "output_type": "stream",
     "text": [
      "165\n"
     ]
    }
   ],
   "source": [
    "num=[10,11,12,13,14,15,16,17,18,19,20]\n",
    "total=0\n",
    "for num in range(10,21):\n",
    "    total=total+num\n",
    "print(total)"
   ]
  },
  {
   "cell_type": "code",
   "execution_count": 12,
   "id": "d6743153",
   "metadata": {},
   "outputs": [
    {
     "name": "stdout",
     "output_type": "stream",
     "text": [
      "6704425728000\n"
     ]
    }
   ],
   "source": [
    "num=[10,11,12,13,14,15,16,17,18,19,20]\n",
    "total=1\n",
    "for num in range(10,21):\n",
    "    total=total*num\n",
    "print(total)"
   ]
  },
  {
   "cell_type": "code",
   "execution_count": 13,
   "id": "a0428c10",
   "metadata": {},
   "outputs": [
    {
     "name": "stdout",
     "output_type": "stream",
     "text": [
      "14.999999999999998\n"
     ]
    }
   ],
   "source": [
    "num=[10,11,12,13,14,15,16,17,18,19,20]\n",
    "total=0\n",
    "for num in range(10,21):\n",
    "    total=total+num/11\n",
    "print(total)"
   ]
  },
  {
   "cell_type": "code",
   "execution_count": 21,
   "id": "877d9d55",
   "metadata": {},
   "outputs": [
    {
     "name": "stdout",
     "output_type": "stream",
     "text": [
      "53\n"
     ]
    }
   ],
   "source": [
    "nums=[5,11,2,53,10,33]\n",
    "m=0\n",
    "for num in nums:\n",
    "    if num > m:\n",
    "        m=num\n",
    "print(m)"
   ]
  },
  {
   "cell_type": "code",
   "execution_count": 27,
   "id": "ee2bcbdd",
   "metadata": {},
   "outputs": [
    {
     "name": "stdout",
     "output_type": "stream",
     "text": [
      "total count=8\n"
     ]
    }
   ],
   "source": [
    "nums=[25,26,27,28,29,30,31,32,33,34,35,36,37,38,39,40,41,42,43,44,45,46,47,48,49,50]\n",
    "count=0\n",
    "for i in nums:\n",
    "    if i%3==0:\n",
    "        count=count+1\n",
    "print(f\"total count={count}\")\n"
   ]
  },
  {
   "cell_type": "code",
   "execution_count": 31,
   "id": "d58d47cc",
   "metadata": {},
   "outputs": [
    {
     "name": "stdout",
     "output_type": "stream",
     "text": [
      "count 8\n"
     ]
    }
   ],
   "source": [
    "movies=[\"Harry Potter1\",\"Harry potter2\",\"Harry potter3\",\"Harry potter4\",\"Harry potter5\",\"Harry potter6\",\"Harry potter7\",\"Harry potter8\",\"Fast and Furious1\",\"Fast and Furious2\",\"Fast and Furious3\",\"Fast and Furious4\"]\n",
    "movies_with_h=0\n",
    "for movie in movies:\n",
    "    if movie.startswith(\"H\") or movie.startswith(\"h\"):\n",
    "        movies_with_h +=1\n",
    "print(\"count\",movies_with_h)"
   ]
  },
  {
   "cell_type": "code",
   "execution_count": 33,
   "id": "ef8b32cd",
   "metadata": {},
   "outputs": [
    {
     "name": "stdout",
     "output_type": "stream",
     "text": [
      "1\n",
      "2\n",
      "3\n",
      "4\n",
      "5\n"
     ]
    }
   ],
   "source": [
    "num = 5\n",
    "for i in range(1,num+1):\n",
    "    print(i)"
   ]
  },
  {
   "cell_type": "code",
   "execution_count": 36,
   "id": "ad956d14",
   "metadata": {},
   "outputs": [
    {
     "name": "stdout",
     "output_type": "stream",
     "text": [
      "10*10\n",
      "9*90\n",
      "8*720\n",
      "7*5040\n",
      "6*30240\n",
      "5*151200\n",
      "4*604800\n",
      "3*1814400\n",
      "2*3628800\n",
      "1*3628800\n",
      "3628800\n"
     ]
    }
   ],
   "source": [
    "num = 10\n",
    "fact= 1\n",
    "for i in range(num,0,-1):\n",
    "    fact=fact*i\n",
    "    print(f'{i}*{fact}')\n",
    "print(fact)\n",
    "    "
   ]
  },
  {
   "cell_type": "code",
   "execution_count": 37,
   "id": "00b9759b",
   "metadata": {},
   "outputs": [
    {
     "name": "stdout",
     "output_type": "stream",
     "text": [
      "3628800\n"
     ]
    }
   ],
   "source": [
    "num = 10\n",
    "fact= 1\n",
    "for i in range(num,0,-1):\n",
    "    fact=fact*i\n",
    "print(fact)"
   ]
  },
  {
   "cell_type": "markdown",
   "id": "dcedf2b7",
   "metadata": {},
   "source": [
    "### Nested Loop\n",
    "\n",
    "\n",
    "for loop:\n",
    "    for loop:\n",
    "         for loop:"
   ]
  },
  {
   "cell_type": "code",
   "execution_count": 38,
   "id": "b14648db",
   "metadata": {},
   "outputs": [
    {
     "name": "stdout",
     "output_type": "stream",
     "text": [
      "i=1,j=1\n",
      "i=1,j=2\n",
      "i=1,j=3\n",
      "i=1,j=4\n",
      "i=1,j=5\n",
      "i=2,j=1\n",
      "i=2,j=2\n",
      "i=2,j=3\n",
      "i=2,j=4\n",
      "i=2,j=5\n",
      "i=3,j=1\n",
      "i=3,j=2\n",
      "i=3,j=3\n",
      "i=3,j=4\n",
      "i=3,j=5\n",
      "i=4,j=1\n",
      "i=4,j=2\n",
      "i=4,j=3\n",
      "i=4,j=4\n",
      "i=4,j=5\n",
      "i=5,j=1\n",
      "i=5,j=2\n",
      "i=5,j=3\n",
      "i=5,j=4\n",
      "i=5,j=5\n",
      "i=6,j=1\n",
      "i=6,j=2\n",
      "i=6,j=3\n",
      "i=6,j=4\n",
      "i=6,j=5\n",
      "i=7,j=1\n",
      "i=7,j=2\n",
      "i=7,j=3\n",
      "i=7,j=4\n",
      "i=7,j=5\n",
      "i=8,j=1\n",
      "i=8,j=2\n",
      "i=8,j=3\n",
      "i=8,j=4\n",
      "i=8,j=5\n",
      "i=9,j=1\n",
      "i=9,j=2\n",
      "i=9,j=3\n",
      "i=9,j=4\n",
      "i=9,j=5\n",
      "i=10,j=1\n",
      "i=10,j=2\n",
      "i=10,j=3\n",
      "i=10,j=4\n",
      "i=10,j=5\n"
     ]
    }
   ],
   "source": [
    "for i in range(1,11):\n",
    "    for j in range(1,6):\n",
    "        print(f\"i={i},j={j}\")"
   ]
  },
  {
   "cell_type": "code",
   "execution_count": 43,
   "id": "ada77ce8",
   "metadata": {},
   "outputs": [
    {
     "name": "stdout",
     "output_type": "stream",
     "text": [
      "1 2 3 4 5 6 7 \n",
      "1 2 3 4 5 6 7 \n",
      "1 2 3 4 5 6 7 \n",
      "1 2 3 4 5 6 7 \n",
      "1 2 3 4 5 6 7 \n",
      "1 2 3 4 5 6 7 \n",
      "1 2 3 4 5 6 7 \n"
     ]
    }
   ],
   "source": [
    "n = 8\n",
    "for i in range(1,n):\n",
    "    for j in range(1,n):\n",
    "        print(j, end=' ')\n",
    "    print()\n"
   ]
  },
  {
   "cell_type": "code",
   "execution_count": 42,
   "id": "a7fc7a50",
   "metadata": {},
   "outputs": [
    {
     "name": "stdout",
     "output_type": "stream",
     "text": [
      "1 1 1 1 1 1 1 1 1 \n",
      "2 2 2 2 2 2 2 2 2 \n",
      "3 3 3 3 3 3 3 3 3 \n",
      "4 4 4 4 4 4 4 4 4 \n",
      "5 5 5 5 5 5 5 5 5 \n",
      "6 6 6 6 6 6 6 6 6 \n",
      "7 7 7 7 7 7 7 7 7 \n",
      "8 8 8 8 8 8 8 8 8 \n",
      "9 9 9 9 9 9 9 9 9 \n"
     ]
    }
   ],
   "source": [
    "n = 10\n",
    "for i in range(1,n):\n",
    "    for j in range(1,n):\n",
    "        print(i, end=' ')\n",
    "    print()\n"
   ]
  },
  {
   "cell_type": "markdown",
   "id": "ecf537c2",
   "metadata": {},
   "source": [
    "### JUMP statement\n",
    "\n",
    "- continue - to skip a step\n",
    "- break - to stop the loop\n",
    "\n",
    "always used with a condition inside a loop"
   ]
  },
  {
   "cell_type": "code",
   "execution_count": 44,
   "id": "3bef9dd7",
   "metadata": {},
   "outputs": [
    {
     "name": "stdout",
     "output_type": "stream",
     "text": [
      "1 2 4 5 7 8 10 11 13 14 16 17 19 20 22 23 "
     ]
    }
   ],
   "source": [
    "# skip every value divisible by 3\n",
    "\n",
    "for i in range(1,25):\n",
    "    if i%3==0:\n",
    "        continue\n",
    "    print(i, end=\" \")"
   ]
  },
  {
   "cell_type": "code",
   "execution_count": 47,
   "id": "fa9a1e5b",
   "metadata": {},
   "outputs": [
    {
     "name": "stdout",
     "output_type": "stream",
     "text": [
      "1 2 3 3 1 2 5 6 7 2 2 1 "
     ]
    }
   ],
   "source": [
    "data=[1,2,0,3,3,0,1,2,0,5,6,7,2,0,2,1]\n",
    "for i in data:\n",
    "    if i==0:\n",
    "        continue\n",
    "    print(i, end=' ')"
   ]
  },
  {
   "cell_type": "code",
   "execution_count": 52,
   "id": "7cb11516",
   "metadata": {},
   "outputs": [
    {
     "name": "stdout",
     "output_type": "stream",
     "text": [
      "1 2 3 4 5 6 7 "
     ]
    }
   ],
   "source": [
    "for i in range(1,11):\n",
    "    if i == 8:\n",
    "        break\n",
    "    print(i,end=\" \")"
   ]
  },
  {
   "cell_type": "code",
   "execution_count": 9,
   "id": "0551f526",
   "metadata": {},
   "outputs": [
    {
     "name": "stdout",
     "output_type": "stream",
     "text": [
      "enter 0 to stop the loop\n",
      "total = 579\n"
     ]
    }
   ],
   "source": [
    "total = 0\n",
    "print(\"enter 0 to stop the loop\")\n",
    "for i in range(100):\n",
    "    value = int(input(\"enter a value\"))\n",
    "    if value == 0:\n",
    "        break\n",
    "    total += value\n",
    "print(f\"total = {total}\")"
   ]
  },
  {
   "cell_type": "code",
   "execution_count": 1,
   "id": "748b86c8",
   "metadata": {},
   "outputs": [
    {
     "name": "stdout",
     "output_type": "stream",
     "text": [
      "1 2 3 4 5 6 7 8 9 10 11 12 13 14 15 16 17 18 19 20 21 22 23 24 25 26 27 28 29 30 31 32 33 34 35 36 37 38 39 40 41 42 43 44 45 46 47 48 49 50 51 52 53 54 55 56 57 58 59 "
     ]
    }
   ],
   "source": [
    "for i in range(1, 60):\n",
    "    if i**12 == 0:\n",
    "        continue\n",
    "    print(i, end=\" \")"
   ]
  },
  {
   "cell_type": "code",
   "execution_count": 2,
   "id": "af3b7f0c",
   "metadata": {},
   "outputs": [
    {
     "name": "stdout",
     "output_type": "stream",
     "text": [
      "1\n",
      "2\n",
      "3\n",
      "4\n",
      "5\n",
      "6\n",
      "7\n",
      "8\n",
      "9\n"
     ]
    }
   ],
   "source": [
    "for i in range(1, 10):\n",
    "    if i == 99:\n",
    "        break\n",
    "    print(i)"
   ]
  },
  {
   "cell_type": "code",
   "execution_count": 3,
   "id": "2b2f8cda",
   "metadata": {},
   "outputs": [
    {
     "name": "stdout",
     "output_type": "stream",
     "text": [
      "2\n",
      "5\n",
      "8\n",
      "11\n",
      "15\n",
      "loop completed\n"
     ]
    }
   ],
   "source": [
    "nums = [2, 5, 8, 11, 15]\n",
    "for n in nums:\n",
    "    print(n)\n",
    "print(\"loop completed\")"
   ]
  },
  {
   "cell_type": "code",
   "execution_count": 4,
   "id": "949c32ab",
   "metadata": {},
   "outputs": [
    {
     "name": "stdout",
     "output_type": "stream",
     "text": [
      "2\n",
      "loop completed\n",
      "5\n",
      "loop completed\n",
      "8\n",
      "loop completed\n"
     ]
    }
   ],
   "source": [
    "nums = [2, 5, 8, 11, 18]\n",
    "for n in nums:\n",
    "    if n >10:\n",
    "        break\n",
    "    print(n)\n",
    "    print(\"loop completed\")"
   ]
  },
  {
   "cell_type": "code",
   "execution_count": 5,
   "id": "b153177a",
   "metadata": {},
   "outputs": [
    {
     "name": "stdout",
     "output_type": "stream",
     "text": [
      "loop broken\n",
      "loop completed\n"
     ]
    }
   ],
   "source": [
    "value = int(input(\"enter breakpoint\"))\n",
    "nums = [1, 2, 3, 4, 5, 6, 11, 15, 20, 25]\n",
    "for n in nums:\n",
    "    if value >n:\n",
    "        print(\"loop broken\")\n",
    "else:\n",
    "    print(\"loop completed\")"
   ]
  },
  {
   "cell_type": "code",
   "execution_count": 6,
   "id": "6076e80a",
   "metadata": {},
   "outputs": [
    {
     "name": "stdout",
     "output_type": "stream",
     "text": [
      "2not a prime number\n"
     ]
    }
   ],
   "source": [
    "num = int(input(\"enter a number\"))\n",
    "for n in range(2, num):\n",
    "    if num %n==0:\n",
    "        print(f\"{n}not a prime number\")\n",
    "        break\n",
    "else:\n",
    "    print(f\"{num} is prime number\")"
   ]
  },
  {
   "cell_type": "code",
   "execution_count": 7,
   "id": "afc22c1e",
   "metadata": {},
   "outputs": [
    {
     "name": "stdout",
     "output_type": "stream",
     "text": [
      "50 45 40 35 30 25 20 15 10 5 "
     ]
    }
   ],
   "source": [
    "x = 50\n",
    "while x>0:\n",
    "    print(x,end=\" \")\n",
    "    x-=5"
   ]
  },
  {
   "cell_type": "code",
   "execution_count": null,
   "id": "84bbab43",
   "metadata": {},
   "outputs": [],
   "source": []
  },
  {
   "cell_type": "code",
   "execution_count": null,
   "id": "0c2e40c9",
   "metadata": {},
   "outputs": [],
   "source": []
  },
  {
   "cell_type": "code",
   "execution_count": 1,
   "id": "25e4f4a3",
   "metadata": {},
   "outputs": [
    {
     "name": "stdout",
     "output_type": "stream",
     "text": [
      "8\n",
      "7\n",
      "6\n",
      "5\n",
      "4\n",
      "3\n",
      "2\n",
      "1\n"
     ]
    }
   ],
   "source": [
    "x=[1,2,3,4,5,6,7,8,]\n",
    "for item in x[::-1]:\n",
    "    print(item)"
   ]
  },
  {
   "cell_type": "markdown",
   "id": "ebc61230",
   "metadata": {},
   "source": [
    "reverse a list in place\n"
   ]
  },
  {
   "cell_type": "code",
   "execution_count": 2,
   "id": "19e03d25",
   "metadata": {},
   "outputs": [],
   "source": [
    "a=[1,2,3]\n",
    "a[:]\n",
    "a[:]=a[::-1]"
   ]
  },
  {
   "cell_type": "code",
   "execution_count": 3,
   "id": "73efc712",
   "metadata": {},
   "outputs": [
    {
     "name": "stdout",
     "output_type": "stream",
     "text": [
      "[3, 4, 5, 1, 2]\n"
     ]
    }
   ],
   "source": [
    "x=[1,2,3,4,5]\n",
    "ans=x[2:]+x[:2]\n",
    "print(ans)"
   ]
  },
  {
   "cell_type": "code",
   "execution_count": null,
   "id": "55cddea8",
   "metadata": {},
   "outputs": [],
   "source": [
    "# comprehension"
   ]
  },
  {
   "cell_type": "code",
   "execution_count": 6,
   "id": "344ec18b",
   "metadata": {},
   "outputs": [
    {
     "name": "stdout",
     "output_type": "stream",
     "text": [
      "[1, 3, 4, 5] [2, 6, 8, 10]\n"
     ]
    }
   ],
   "source": [
    "x=[1,3,4,5]\n",
    "x2=[]\n",
    "for i in x:\n",
    "    s=i*2\n",
    "    x2.append(s)\n",
    "print(x,x2)"
   ]
  },
  {
   "cell_type": "code",
   "execution_count": 7,
   "id": "9447cc47",
   "metadata": {},
   "outputs": [
    {
     "name": "stdout",
     "output_type": "stream",
     "text": [
      "[4, 8, 12, 16] [2, 4, 6, 8]\n"
     ]
    }
   ],
   "source": [
    "x=[4,8,12,16]\n",
    "x3=[]\n",
    "for i in x:\n",
    "    x3.append(i//2)\n",
    "print(x,x3)"
   ]
  },
  {
   "cell_type": "code",
   "execution_count": null,
   "id": "9806ae5b",
   "metadata": {},
   "outputs": [],
   "source": [
    "x=[1,2,3]\n",
    "y=[4,5,6]\n",
    "xy=[]\n",
    "for i in zip[x1,y]\n"
   ]
  },
  {
   "cell_type": "code",
   "execution_count": 9,
   "id": "6d22b6e6",
   "metadata": {},
   "outputs": [],
   "source": [
    "y=[1,2,3]\n",
    "y2=[i*2 for i in y]"
   ]
  }
 ],
 "metadata": {
  "kernelspec": {
   "display_name": "Python 3",
   "language": "python",
   "name": "python3"
  },
  "language_info": {
   "codemirror_mode": {
    "name": "ipython",
    "version": 3
   },
   "file_extension": ".py",
   "mimetype": "text/x-python",
   "name": "python",
   "nbconvert_exporter": "python",
   "pygments_lexer": "ipython3",
   "version": "3.13.6"
  }
 },
 "nbformat": 4,
 "nbformat_minor": 5
}
