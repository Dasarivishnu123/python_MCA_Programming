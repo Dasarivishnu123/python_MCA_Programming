{
 "cells": [
  {
   "cell_type": "code",
   "execution_count": 1,
   "id": "a16c28fe",
   "metadata": {},
   "outputs": [
    {
     "name": "stdout",
     "output_type": "stream",
     "text": [
      "Hello, vishnu\n",
      "You are from Anantapur\n",
      "You are 20 years old.\n",
      "Your rate is 10.0\n"
     ]
    }
   ],
   "source": [
    "name = input(\"Enter your name: \")\n",
    "print(\"Hello,\", name)\n",
    "city = input(\"Enter your city: \")\n",
    "print(\"You are from\", city)\n",
    "age = int(input(\"Enter your age: \"))\n",
    "print(\"You are\", age, \"years old.\")\n",
    "rate = float(input(\"Enter your rate: \"))\n",
    "print(\"Your rate is\", rate)"
   ]
  },
  {
   "cell_type": "code",
   "execution_count": 2,
   "id": "e518578d",
   "metadata": {},
   "outputs": [
    {
     "name": "stdout",
     "output_type": "stream",
     "text": [
      "Welcome to Python!\n",
      "Sum: 8\n",
      "Hello World !\n",
      "Name: Alice\n",
      "Name: Alice Age: 22 City: New York\n"
     ]
    }
   ],
   "source": [
    "print(\"Welcome to Python!\")\n",
    "print(\"Sum:\", 5 + 3)\n",
    "print(\"Hello\", \"World\", \"!\")\n",
    "name = \"Alice\"\n",
    "print(\"Name:\", name)\n",
    "name, age, city = \"Alice\", 22, \"New York\"\n",
    "print(\"Name:\", name, \"Age:\", age, \"City:\", city)"
   ]
  },
  {
   "cell_type": "code",
   "execution_count": 3,
   "id": "1148892d",
   "metadata": {},
   "outputs": [
    {
     "name": "stdout",
     "output_type": "stream",
     "text": [
      "A-B\n",
      "Hello!"
     ]
    }
   ],
   "source": [
    "print(\"A\", \"B\", sep=\"-\")  # Output: A-B\n",
    "print(\"Hello\", end=\"!\")   # Output: Hello!"
   ]
  },
  {
   "cell_type": "code",
   "execution_count": 4,
   "id": "e8e24a0a",
   "metadata": {},
   "outputs": [
    {
     "name": "stdout",
     "output_type": "stream",
     "text": [
      "Alice is 22 years old.\n"
     ]
    }
   ],
   "source": [
    "name = \"Alice\"\n",
    "age = 22\n",
    "print(f\"{name} is {age} years old.\")"
   ]
  },
  {
   "cell_type": "code",
   "execution_count": 5,
   "id": "be41e2d1",
   "metadata": {},
   "outputs": [
    {
     "name": "stdout",
     "output_type": "stream",
     "text": [
      "Bob scored 95 marks.\n",
      "Charlie is 30 years old.\n"
     ]
    }
   ],
   "source": [
    "print(\"{} scored {} marks.\".format(\"Bob\", 95))\n",
    "print(\"{1} is {0} years old.\".format(30, \"Charlie\"))"
   ]
  },
  {
   "cell_type": "code",
   "execution_count": 6,
   "id": "d9611c0f",
   "metadata": {},
   "outputs": [
    {
     "name": "stdout",
     "output_type": "stream",
     "text": [
      "<class 'int'>\n"
     ]
    }
   ],
   "source": [
    "x = 10\n",
    "print(type(x))  # <class 'int'>"
   ]
  },
  {
   "cell_type": "code",
   "execution_count": 7,
   "id": "598a94e3",
   "metadata": {},
   "outputs": [
    {
     "name": "stdout",
     "output_type": "stream",
     "text": [
      "<class 'float'>\n"
     ]
    }
   ],
   "source": [
    "y = 3.5\n",
    "print(type(y))  # <class 'float'>"
   ]
  },
  {
   "cell_type": "code",
   "execution_count": 8,
   "id": "e6efebaf",
   "metadata": {},
   "outputs": [
    {
     "name": "stdout",
     "output_type": "stream",
     "text": [
      "<class 'complex'>\n"
     ]
    }
   ],
   "source": [
    "z = 1 + 2j\n",
    "print(type(z))  # <class 'complex'>"
   ]
  },
  {
   "cell_type": "code",
   "execution_count": 9,
   "id": "0dccc0b5",
   "metadata": {},
   "outputs": [
    {
     "name": "stdout",
     "output_type": "stream",
     "text": [
      "<class 'NoneType'>\n"
     ]
    }
   ],
   "source": [
    "n = None\n",
    "print(type(n))  # <class 'NoneType'>"
   ]
  },
  {
   "cell_type": "code",
   "execution_count": 10,
   "id": "f1cc2b96",
   "metadata": {},
   "outputs": [
    {
     "name": "stdout",
     "output_type": "stream",
     "text": [
      "<class 'str'>\n"
     ]
    }
   ],
   "source": [
    "s = \"Python\"\n",
    "print(type(s))  # <class 'str'>"
   ]
  },
  {
   "cell_type": "code",
   "execution_count": 11,
   "id": "b6caff42",
   "metadata": {},
   "outputs": [
    {
     "name": "stdout",
     "output_type": "stream",
     "text": [
      "<class 'bool'>\n"
     ]
    }
   ],
   "source": [
    "flag = True\n",
    "print(type(flag))  # <class 'bool'>"
   ]
  },
  {
   "cell_type": "code",
   "execution_count": 12,
   "id": "1558598b",
   "metadata": {},
   "outputs": [
    {
     "name": "stdout",
     "output_type": "stream",
     "text": [
      "<class 'list'>\n"
     ]
    }
   ],
   "source": [
    "fruits = [\"apple\", \"banana\", \"cherry\"]\n",
    "print(type(fruits))  # <class 'list'>"
   ]
  },
  {
   "cell_type": "code",
   "execution_count": 13,
   "id": "2d9cfc03",
   "metadata": {},
   "outputs": [
    {
     "name": "stdout",
     "output_type": "stream",
     "text": [
      "<class 'tuple'>\n"
     ]
    }
   ],
   "source": [
    "point = (3, 5)\n",
    "print(type(point))  # <class 'tuple'>"
   ]
  },
  {
   "cell_type": "code",
   "execution_count": 14,
   "id": "b1cfc2c0",
   "metadata": {},
   "outputs": [
    {
     "name": "stdout",
     "output_type": "stream",
     "text": [
      "<class 'set'>\n"
     ]
    }
   ],
   "source": [
    "fruits = {\"apple\", \"banana\", \"cherry\"}\n",
    "print(type(fruits))  # <class 'set'>"
   ]
  },
  {
   "cell_type": "code",
   "execution_count": 15,
   "id": "7968c3ce",
   "metadata": {},
   "outputs": [
    {
     "name": "stdout",
     "output_type": "stream",
     "text": [
      "<class 'dict'>\n"
     ]
    }
   ],
   "source": [
    "student = {\"name\": \"Alice\", \"age\": 22}\n",
    "print(type(student))  # <class 'dict'>\n"
   ]
  },
  {
   "cell_type": "code",
   "execution_count": 16,
   "id": "d15272b5",
   "metadata": {},
   "outputs": [
    {
     "name": "stdout",
     "output_type": "stream",
     "text": [
      "<class 'bytes'>\n"
     ]
    }
   ],
   "source": [
    "b = b\"Hello\"\n",
    "print(type(b))  # <class 'bytes'>"
   ]
  },
  {
   "cell_type": "code",
   "execution_count": 17,
   "id": "6412e11e",
   "metadata": {},
   "outputs": [
    {
     "name": "stdout",
     "output_type": "stream",
     "text": [
      "<class 'frozenset'>\n"
     ]
    }
   ],
   "source": [
    "fs = frozenset([1, 2, 3])\n",
    "print(type(fs))  # <class 'frozenset'>"
   ]
  },
  {
   "cell_type": "code",
   "execution_count": 18,
   "id": "da5586f6",
   "metadata": {},
   "outputs": [
    {
     "name": "stdout",
     "output_type": "stream",
     "text": [
      "<class 'collections.OrderedDict'>\n"
     ]
    }
   ],
   "source": [
    "from collections import OrderedDict\n",
    "od = OrderedDict()\n",
    "od[\"apple\"] = 1\n",
    "od[\"banana\"] = 2\n",
    "print(type(od))  # <class 'collections.OrderedDict'>"
   ]
  },
  {
   "cell_type": "code",
   "execution_count": 19,
   "id": "9cf9cac9",
   "metadata": {},
   "outputs": [
    {
     "name": "stdout",
     "output_type": "stream",
     "text": [
      "defaultdict(<class 'int'>, {'apple': 1})\n"
     ]
    }
   ],
   "source": [
    "from collections import defaultdict\n",
    "dd = defaultdict(int)\n",
    "dd[\"apple\"] += 1\n",
    "print(dd)  # defaultdict(<class 'int'>, {'apple': 1})"
   ]
  },
  {
   "cell_type": "code",
   "execution_count": 20,
   "id": "b73f9904",
   "metadata": {},
   "outputs": [
    {
     "name": "stdout",
     "output_type": "stream",
     "text": [
      "Counter({'apple': 2, 'banana': 1})\n"
     ]
    }
   ],
   "source": [
    "from collections import Counter\n",
    "c = Counter([\"apple\", \"banana\", \"apple\"])\n",
    "print(c)  # Counter({'apple': 2, 'banana': 1})"
   ]
  },
  {
   "cell_type": "code",
   "execution_count": 21,
   "id": "0f19e356",
   "metadata": {},
   "outputs": [
    {
     "name": "stdout",
     "output_type": "stream",
     "text": [
      "deque([2, 1])\n"
     ]
    }
   ],
   "source": [
    "from collections import deque\n",
    "d = deque()\n",
    "d.append(1)\n",
    "d.appendleft(2)\n",
    "print(d)  # deque([2, 1])"
   ]
  },
  {
   "cell_type": "code",
   "execution_count": 22,
   "id": "a875a9f7",
   "metadata": {},
   "outputs": [
    {
     "name": "stdout",
     "output_type": "stream",
     "text": [
      "{'apple': 1}\n"
     ]
    }
   ],
   "source": [
    "from collections import UserDict\n",
    "class MyDict(UserDict):\n",
    "    def __setitem__(self, key, value):\n",
    "        super().__setitem__(key, value)\n",
    "d = MyDict()\n",
    "d[\"apple\"] = 1\n",
    "print(d)  # MyDict({'apple': 1})"
   ]
  },
  {
   "cell_type": "code",
   "execution_count": 23,
   "id": "29115a80",
   "metadata": {},
   "outputs": [
    {
     "name": "stdout",
     "output_type": "stream",
     "text": [
      "[1]\n"
     ]
    }
   ],
   "source": [
    "from collections import UserList\n",
    "class MyList(UserList):\n",
    "    def append(self, item):\n",
    "        super().append(item)\n",
    "l = MyList()\n",
    "l.append(1)\n",
    "print(l)  # MyList([1])"
   ]
  },
  {
   "cell_type": "code",
   "execution_count": null,
   "id": "f8508ce2",
   "metadata": {},
   "outputs": [
    {
     "name": "stdout",
     "output_type": "stream",
     "text": [
      "<class 'str'>\n"
     ]
    }
   ],
   "source": [
    "x = 10      # x is int\n",
    "x = \"ten\"   # now x is str\n",
    "print(type(x))  # <class 'str'>"
   ]
  },
  {
   "cell_type": "code",
   "execution_count": 25,
   "id": "598b8bd9",
   "metadata": {},
   "outputs": [
    {
     "name": "stdout",
     "output_type": "stream",
     "text": [
      "7.0\n",
      "<class 'float'>\n"
     ]
    }
   ],
   "source": [
    "a = 5       # int\n",
    "b = 2.0     # float\n",
    "c = a + b   # int + float -> float\n",
    "print(c)    # 7.0\n",
    "print(type(c))  # <class 'float'>"
   ]
  },
  {
   "cell_type": "code",
   "execution_count": 26,
   "id": "a380ffd9",
   "metadata": {},
   "outputs": [
    {
     "name": "stdout",
     "output_type": "stream",
     "text": [
      "7\n"
     ]
    }
   ],
   "source": [
    "a = \"5\"\n",
    "b = \"2\"\n",
    "c = int(a) + int(b)  # convert strings to int\n",
    "print(c)  # 7"
   ]
  },
  {
   "cell_type": "code",
   "execution_count": 27,
   "id": "457f1cc5",
   "metadata": {},
   "outputs": [
    {
     "name": "stdout",
     "output_type": "stream",
     "text": [
      "3\n"
     ]
    }
   ],
   "source": [
    "x = 3.7\n",
    "y = int(x)  # y is 3 (decimal part is truncated)\n",
    "print(y)"
   ]
  },
  {
   "cell_type": "code",
   "execution_count": 29,
   "id": "320856d9",
   "metadata": {},
   "outputs": [
    {
     "name": "stdout",
     "output_type": "stream",
     "text": [
      "7\n",
      "52\n"
     ]
    }
   ],
   "source": [
    "print(int(a) + b)  # 7\n",
    "print(a + str(b))  # \"52\""
   ]
  },
  {
   "cell_type": "code",
   "execution_count": 31,
   "id": "ed8b6b7d",
   "metadata": {},
   "outputs": [
    {
     "name": "stdout",
     "output_type": "stream",
     "text": [
      "Cannot convert to int!\n"
     ]
    }
   ],
   "source": [
    "s = \"abc\"\n",
    "try:\n",
    "        n = int(s)\n",
    "except ValueError:\n",
    "        print(\"Cannot convert to int!\")"
   ]
  },
  {
   "cell_type": "code",
   "execution_count": 33,
   "id": "17040e6a",
   "metadata": {},
   "outputs": [
    {
     "name": "stdout",
     "output_type": "stream",
     "text": [
      "13\n",
      "3.3333333333333335\n",
      "3\n",
      "1000\n"
     ]
    }
   ],
   "source": [
    "#Arithmetic Operators\n",
    "\n",
    "a = 10\n",
    "b = 3\n",
    "print(a + b)  # 13\n",
    "print(a / b)  # 3.333...\n",
    "print(a // b) # 3\n",
    "print(a ** b) # 1000\n"
   ]
  },
  {
   "cell_type": "code",
   "execution_count": 34,
   "id": "adc8e0fe",
   "metadata": {},
   "outputs": [
    {
     "name": "stdout",
     "output_type": "stream",
     "text": [
      "True\n",
      "False\n"
     ]
    }
   ],
   "source": [
    "#Relational (Comparison) Operators\n",
    "\n",
    "print(5 > 2)   # True\n",
    "print(5 == 2)  # False"
   ]
  },
  {
   "cell_type": "code",
   "execution_count": 35,
   "id": "5d0ad593",
   "metadata": {},
   "outputs": [
    {
     "name": "stdout",
     "output_type": "stream",
     "text": [
      "True\n",
      "False\n"
     ]
    }
   ],
   "source": [
    "#Logical Operators\n",
    "\n",
    "x = 5\n",
    "print(x > 2 and x < 10)  # True\n",
    "print(not(x == 5))       # False"
   ]
  },
  {
   "cell_type": "code",
   "execution_count": 36,
   "id": "711b8bb5",
   "metadata": {},
   "outputs": [
    {
     "name": "stdout",
     "output_type": "stream",
     "text": [
      "1\n",
      "7\n",
      "6\n",
      "-6\n",
      "10\n",
      "2\n"
     ]
    }
   ],
   "source": [
    "#Bitwise Operators\n",
    "\n",
    "a = 5  # 0101\n",
    "b = 3  # 0011\n",
    "print(a & b)  # 1\n",
    "print(a | b)  # 7\n",
    "print(a ^ b)  # 6\n",
    "print(~a)     # -6\n",
    "print(a << 1) # 10\n",
    "print(a >> 1) # 2"
   ]
  },
  {
   "cell_type": "code",
   "execution_count": 37,
   "id": "3492eade",
   "metadata": {},
   "outputs": [
    {
     "name": "stdout",
     "output_type": "stream",
     "text": [
      "15\n"
     ]
    }
   ],
   "source": [
    "#Assignment Operators\n",
    "\n",
    "x = 10\n",
    "x += 5  # x = x + 5\n",
    "print(x)  # 15"
   ]
  },
  {
   "cell_type": "code",
   "execution_count": 38,
   "id": "a67b770b",
   "metadata": {},
   "outputs": [
    {
     "name": "stdout",
     "output_type": "stream",
     "text": [
      "True\n",
      "True\n"
     ]
    }
   ],
   "source": [
    "#Membership Operators\n",
    "\n",
    "nums = [1, 2, 3]\n",
    "print(2 in nums)      # True\n",
    "print(4 not in nums)  # True"
   ]
  },
  {
   "cell_type": "code",
   "execution_count": 39,
   "id": "a607256c",
   "metadata": {},
   "outputs": [
    {
     "name": "stdout",
     "output_type": "stream",
     "text": [
      "True\n",
      "False\n",
      "True\n"
     ]
    }
   ],
   "source": [
    "#Identity Operators\n",
    "\n",
    "a = [1, 2]\n",
    "b = a\n",
    "c = [1, 2]\n",
    "print(a is b)      # True\n",
    "print(a is c)      # False\n",
    "print(a == c)      # True"
   ]
  },
  {
   "cell_type": "code",
   "execution_count": 40,
   "id": "108279b8",
   "metadata": {},
   "outputs": [
    {
     "name": "stdout",
     "output_type": "stream",
     "text": [
      "Hello\n"
     ]
    }
   ],
   "source": [
    "#Expression Evaluation, Precedence & Associativity\n",
    "#Comments in Python\n",
    "#Single-line Comments\n",
    "\n",
    "# This is a single-line comment\n",
    "print(\"Hello\")  # This is an inline comment"
   ]
  },
  {
   "cell_type": "code",
   "execution_count": 41,
   "id": "a9c81fed",
   "metadata": {},
   "outputs": [
    {
     "data": {
      "text/plain": [
       "'\\nThis is also a\\nmulti-line comment\\n'"
      ]
     },
     "execution_count": 41,
     "metadata": {},
     "output_type": "execute_result"
    }
   ],
   "source": [
    "#Multi-line Comments\n",
    "# This is a\n",
    "# multi-line comment\n",
    "\n",
    "'''\n",
    "This is also a\n",
    "multi-line comment\n",
    "'''"
   ]
  },
  {
   "cell_type": "code",
   "execution_count": 42,
   "id": "1411f3f8",
   "metadata": {},
   "outputs": [],
   "source": [
    "#Docstrings\n",
    "\n",
    "def add(a, b):\n",
    "    \"\"\"\n",
    "    Adds two numbers.\n",
    "    \"\"\"\n",
    "    return a + b"
   ]
  }
 ],
 "metadata": {
  "kernelspec": {
   "display_name": "Python 3",
   "language": "python",
   "name": "python3"
  },
  "language_info": {
   "codemirror_mode": {
    "name": "ipython",
    "version": 3
   },
   "file_extension": ".py",
   "mimetype": "text/x-python",
   "name": "python",
   "nbconvert_exporter": "python",
   "pygments_lexer": "ipython3",
   "version": "3.13.6"
  }
 },
 "nbformat": 4,
 "nbformat_minor": 5
}
