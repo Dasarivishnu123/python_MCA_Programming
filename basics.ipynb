{
 "cells": [
  {
   "cell_type": "code",
   "execution_count": 1,
   "id": "ff0afd2f",
   "metadata": {},
   "outputs": [],
   "source": [
    "x = 5 \n",
    "y = 1.5 \n",
    "10\n",
    "is_working = False \n",
    "is_empty = None \n",
    "univ = \"Mohan Babu University\"\n",
    "colors = ['red','pink','orange']\n",
    "points = (1, 3, 14, 10)\n",
    "names = ('yeshwanth','vishnu','vamsi','Ajay')"
   ]
  },
  {
   "cell_type": "code",
   "execution_count": 1,
   "id": "2c2ce82e",
   "metadata": {},
   "outputs": [
    {
     "data": {
      "text/plain": [
       "50.24"
      ]
     },
     "execution_count": 1,
     "metadata": {},
     "output_type": "execute_result"
    }
   ],
   "source": [
    "r = 8\n",
    "pi = 3.14\n",
    "circumference = 2 * pi * r\n",
    "circumference"
   ]
  },
  {
   "cell_type": "markdown",
   "id": "d5321342",
   "metadata": {},
   "source": [
    "# Operators\n",
    "- Assignment operator\n",
    "- Arthmetic operator\n",
    "- Comparsion Operator\n",
    "- Logical operator\n",
    "- Bitwise operator\n",
    "- Membership operator"
   ]
  },
  {
   "cell_type": "code",
   "execution_count": 3,
   "id": "50f5f6c9",
   "metadata": {},
   "outputs": [
    {
     "data": {
      "text/plain": [
       "2500.0"
      ]
     },
     "execution_count": 3,
     "metadata": {},
     "output_type": "execute_result"
    }
   ],
   "source": [
    "x = 1000  #assignment\n",
    "x -= 500  #assignment\n",
    "x *= 10\n",
    "x /= 2\n",
    "x"
   ]
  },
  {
   "cell_type": "markdown",
   "id": "b152dee0",
   "metadata": {},
   "source": [
    "# arithemetic operator\n",
    "- Add          '+'\n",
    "- Sub           '-'\n",
    "- Mul           '*'\n",
    "- Div           '/'\n",
    "- Int Div //\n",
    "- Exp **\n",
    "- Mod %"
   ]
  },
  {
   "cell_type": "code",
   "execution_count": 1,
   "id": "cb6f0480",
   "metadata": {},
   "outputs": [
    {
     "data": {
      "text/plain": [
       "13"
      ]
     },
     "execution_count": 1,
     "metadata": {},
     "output_type": "execute_result"
    }
   ],
   "source": [
    "a = 10\n",
    "b = 3\n",
    "a + b"
   ]
  },
  {
   "cell_type": "code",
   "execution_count": 2,
   "id": "9339aea0",
   "metadata": {},
   "outputs": [
    {
     "data": {
      "text/plain": [
       "7"
      ]
     },
     "execution_count": 2,
     "metadata": {},
     "output_type": "execute_result"
    }
   ],
   "source": [
    "a - b"
   ]
  },
  {
   "cell_type": "code",
   "execution_count": 3,
   "id": "a3c96606",
   "metadata": {},
   "outputs": [
    {
     "data": {
      "text/plain": [
       "30"
      ]
     },
     "execution_count": 3,
     "metadata": {},
     "output_type": "execute_result"
    }
   ],
   "source": [
    "a * b"
   ]
  },
  {
   "cell_type": "code",
   "execution_count": 4,
   "id": "c812d1a8",
   "metadata": {},
   "outputs": [
    {
     "data": {
      "text/plain": [
       "3.3333333333333335"
      ]
     },
     "execution_count": 4,
     "metadata": {},
     "output_type": "execute_result"
    }
   ],
   "source": [
    "a / b"
   ]
  },
  {
   "cell_type": "code",
   "execution_count": 5,
   "id": "7beac17e",
   "metadata": {},
   "outputs": [
    {
     "data": {
      "text/plain": [
       "3"
      ]
     },
     "execution_count": 5,
     "metadata": {},
     "output_type": "execute_result"
    }
   ],
   "source": [
    "a//b"
   ]
  },
  {
   "cell_type": "code",
   "execution_count": 6,
   "id": "2999433f",
   "metadata": {},
   "outputs": [
    {
     "data": {
      "text/plain": [
       "1"
      ]
     },
     "execution_count": 6,
     "metadata": {},
     "output_type": "execute_result"
    }
   ],
   "source": [
    "a % b"
   ]
  },
  {
   "cell_type": "code",
   "execution_count": 7,
   "id": "33f8d181",
   "metadata": {},
   "outputs": [
    {
     "data": {
      "text/plain": [
       "1000"
      ]
     },
     "execution_count": 7,
     "metadata": {},
     "output_type": "execute_result"
    }
   ],
   "source": [
    "a ** b # 10 power of 3 / Exponentiation"
   ]
  },
  {
   "cell_type": "markdown",
   "id": "59d65b50",
   "metadata": {},
   "source": [
    "# operator precedence\n",
    "1 => ()\n",
    "2 => **, *, / , //\n",
    "3 => +, -\n",
    "4 => ="
   ]
  },
  {
   "cell_type": "code",
   "execution_count": 8,
   "id": "dbc6bc5c",
   "metadata": {},
   "outputs": [
    {
     "data": {
      "text/plain": [
       "27.0"
      ]
     },
     "execution_count": 8,
     "metadata": {},
     "output_type": "execute_result"
    }
   ],
   "source": [
    "2 + 10 / 2*5"
   ]
  },
  {
   "cell_type": "code",
   "execution_count": 10,
   "id": "ff6c6682",
   "metadata": {},
   "outputs": [
    {
     "data": {
      "text/plain": [
       "169"
      ]
     },
     "execution_count": 10,
     "metadata": {},
     "output_type": "execute_result"
    }
   ],
   "source": [
    "x = (a+b) ** 2\n",
    "x"
   ]
  },
  {
   "cell_type": "code",
   "execution_count": null,
   "id": "b19fa548",
   "metadata": {},
   "outputs": [
    {
     "data": {
      "text/plain": [
       "5.0"
      ]
     },
     "execution_count": 14,
     "metadata": {},
     "output_type": "execute_result"
    }
   ],
   "source": [
    "per = 3\n",
    "base = 4\n",
    "hyp = (per**2 + base**2)**.5  #math.sqrt(per**)\n",
    "hyp"
   ]
  },
  {
   "cell_type": "markdown",
   "id": "083b8e1b",
   "metadata": {},
   "source": [
    "what will the value x is 10 in 3x + 2(x-1)\n",
    "what will be the avg when we have these values 2,4,5,6,1,2,5,6"
   ]
  },
  {
   "cell_type": "code",
   "execution_count": 24,
   "id": "adfcbcb8",
   "metadata": {},
   "outputs": [
    {
     "data": {
      "text/plain": [
       "48"
      ]
     },
     "execution_count": 24,
     "metadata": {},
     "output_type": "execute_result"
    }
   ],
   "source": [
    "x = 10\n",
    "res = 3 * x + 2 * (x-1)\n",
    "res"
   ]
  },
  {
   "cell_type": "code",
   "execution_count": 26,
   "id": "f023712e",
   "metadata": {},
   "outputs": [
    {
     "data": {
      "text/plain": [
       "3.375"
      ]
     },
     "execution_count": 26,
     "metadata": {},
     "output_type": "execute_result"
    }
   ],
   "source": [
    "sum = 2+4+5+6+1+2+3+4\n",
    "count = 8\n",
    "res=27/8\n",
    "res"
   ]
  },
  {
   "cell_type": "markdown",
   "id": "7e5a1359",
   "metadata": {},
   "source": [
    "#comparision operators\n",
    "< <= > >= == !="
   ]
  },
  {
   "cell_type": "code",
   "execution_count": 1,
   "id": "fe058b96",
   "metadata": {},
   "outputs": [],
   "source": [
    "x = 12\n",
    "y = 23"
   ]
  },
  {
   "cell_type": "code",
   "execution_count": 2,
   "id": "c201903c",
   "metadata": {},
   "outputs": [],
   "source": [
    "x, y = 13 , 24\n",
    "a , b, c = 2, 4 , 120\n"
   ]
  },
  {
   "cell_type": "code",
   "execution_count": 3,
   "id": "d363aa67",
   "metadata": {},
   "outputs": [
    {
     "data": {
      "text/plain": [
       "True"
      ]
     },
     "execution_count": 3,
     "metadata": {},
     "output_type": "execute_result"
    }
   ],
   "source": [
    "x < 15< y"
   ]
  },
  {
   "cell_type": "code",
   "execution_count": 5,
   "id": "14afa8e2",
   "metadata": {},
   "outputs": [
    {
     "data": {
      "text/plain": [
       "True"
      ]
     },
     "execution_count": 5,
     "metadata": {},
     "output_type": "execute_result"
    }
   ],
   "source": [
    "x  =100 \n",
    "1 <= x <= 100"
   ]
  },
  {
   "cell_type": "code",
   "execution_count": 4,
   "id": "b10fbbc9",
   "metadata": {},
   "outputs": [
    {
     "data": {
      "text/plain": [
       "False"
      ]
     },
     "execution_count": 4,
     "metadata": {},
     "output_type": "execute_result"
    }
   ],
   "source": [
    "x =100\n",
    "1 <x < 100 # if x is in the range of 2 - 99"
   ]
  },
  {
   "cell_type": "markdown",
   "id": "296b5336",
   "metadata": {},
   "source": [
    "logical operators\n",
    "AND OR NOT"
   ]
  },
  {
   "cell_type": "code",
   "execution_count": 8,
   "id": "b124ef80",
   "metadata": {},
   "outputs": [
    {
     "data": {
      "text/plain": [
       "False"
      ]
     },
     "execution_count": 8,
     "metadata": {},
     "output_type": "execute_result"
    }
   ],
   "source": [
    "x < y and x > a #and is ussed to evaluate if both\n"
   ]
  },
  {
   "cell_type": "code",
   "execution_count": 9,
   "id": "280ce5b4",
   "metadata": {},
   "outputs": [
    {
     "data": {
      "text/plain": [
       "False"
      ]
     },
     "execution_count": 9,
     "metadata": {},
     "output_type": "execute_result"
    }
   ],
   "source": [
    "not a"
   ]
  },
  {
   "cell_type": "code",
   "execution_count": 10,
   "id": "2394ec18",
   "metadata": {},
   "outputs": [
    {
     "data": {
      "text/plain": [
       "True"
      ]
     },
     "execution_count": 10,
     "metadata": {},
     "output_type": "execute_result"
    }
   ],
   "source": [
    "not  (a == 10)"
   ]
  }
 ],
 "metadata": {
  "kernelspec": {
   "display_name": "Python 3",
   "language": "python",
   "name": "python3"
  },
  "language_info": {
   "codemirror_mode": {
    "name": "ipython",
    "version": 3
   },
   "file_extension": ".py",
   "mimetype": "text/x-python",
   "name": "python",
   "nbconvert_exporter": "python",
   "pygments_lexer": "ipython3",
   "version": "3.13.6"
  }
 },
 "nbformat": 4,
 "nbformat_minor": 5
}
