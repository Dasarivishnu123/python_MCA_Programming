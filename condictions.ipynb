{
 "cells": [
  {
   "cell_type": "markdown",
   "id": "bbedaac6",
   "metadata": {},
   "source": [
    "Conditions\n",
    "\n",
    "In Python there are 4 conditions\n",
    "\n",
    "* if\n",
    "* if-else\n",
    "* if-elif\n",
    "* match case"
   ]
  },
  {
   "cell_type": "code",
   "execution_count": 2,
   "id": "3e6f3236",
   "metadata": {},
   "outputs": [
    {
     "name": "stdout",
     "output_type": "stream",
     "text": [
      "value => 120\n"
     ]
    }
   ],
   "source": [
    "data = int(input(\"enter data value\"))\n",
    "print(f\"value => {data}\")"
   ]
  },
  {
   "cell_type": "code",
   "execution_count": 5,
   "id": "233e838b",
   "metadata": {},
   "outputs": [
    {
     "name": "stdout",
     "output_type": "stream",
     "text": [
      "you see a apple seller\n",
      "purchase 2kg of apples\n"
     ]
    }
   ],
   "source": [
    "print('you see a apple seller')\n",
    "q = input('do you like apples?')\n",
    "if q == 'yes' :\n",
    "    print('purchase 2kg of apples')\n",
    "if q == 'no' :\n",
    "    print('you dont purchase apples')    "
   ]
  },
  {
   "cell_type": "code",
   "execution_count": 5,
   "id": "4e05edbc",
   "metadata": {},
   "outputs": [
    {
     "name": "stdout",
     "output_type": "stream",
     "text": [
      "total salary is 59800.0\n"
     ]
    }
   ],
   "source": [
    "salary = 52000\n",
    "if salary > 50000:\n",
    "    da = .15           #15% dearness allowance\n",
    "total = salary+salary*da\n",
    "print(f\"total salary is {total}\")\n",
    "\n"
   ]
  },
  {
   "cell_type": "code",
   "execution_count": 13,
   "id": "497e42a1",
   "metadata": {},
   "outputs": [
    {
     "name": "stdout",
     "output_type": "stream",
     "text": [
      "total salary is 42000\n"
     ]
    }
   ],
   "source": [
    "salary = 42000\n",
    "da=0\n",
    "if salary > 50000:\n",
    "    da = .15           #15% dearness allowance\n",
    "total = salary+salary*da\n",
    "print(f\"total salary is {total}\")\n"
   ]
  },
  {
   "cell_type": "code",
   "execution_count": 14,
   "id": "b267a012",
   "metadata": {},
   "outputs": [
    {
     "name": "stdout",
     "output_type": "stream",
     "text": [
      "total salary is 42000\n"
     ]
    }
   ],
   "source": [
    "# solution 2 - use if else\n",
    "salary=42000\n",
    "if salary>50000:\n",
    "    da=.15\n",
    "    total=salary+salary*da\n",
    "else:\n",
    "    total=salary\n",
    "print(f\"total salary is {total}\")"
   ]
  },
  {
   "cell_type": "code",
   "execution_count": 15,
   "id": "e4b657e6",
   "metadata": {},
   "outputs": [
    {
     "name": "stdout",
     "output_type": "stream",
     "text": [
      "total salary is42000\n"
     ]
    }
   ],
   "source": [
    "#solution 2 - use if else with their own prient\n",
    "salary=42000\n",
    "if salary>50000:\n",
    "    da=1.5\n",
    "    total=salary+salary*da\n",
    "    print(f\"total salary is{total}\")\n",
    "else:\n",
    "    total=salary\n",
    "    print(f\"total salary is{total}\")"
   ]
  },
  {
   "cell_type": "code",
   "execution_count": 17,
   "id": "7c44b8c6",
   "metadata": {},
   "outputs": [],
   "source": [
    "x=int(input())\n",
    "y=int(input())\n",
    "if x>y:\n",
    "    a=x-y\n",
    "else:\n",
    "    a=y-x"
   ]
  },
  {
   "cell_type": "code",
   "execution_count": 18,
   "id": "0f7d3767",
   "metadata": {},
   "outputs": [],
   "source": [
    "x=int(input(\"Enter a number:\"))\n",
    "y=int(input(\"Enter a second number:\"))\n",
    "if x>y:\n",
    "    a=x-y\n",
    "else:\n",
    "    a=y-x"
   ]
  },
  {
   "cell_type": "code",
   "execution_count": 20,
   "id": "c97cf6c2",
   "metadata": {},
   "outputs": [
    {
     "name": "stdout",
     "output_type": "stream",
     "text": [
      "long movie name: Bhahubali the begining\n",
      "the end\n"
     ]
    }
   ],
   "source": [
    "name = input(\"enter your fav movie\")\n",
    "if len(name)>10:\n",
    "    print(f\"long movie name: {name}\")\n",
    "else:\n",
    "    print(f\"short movie name: {name}\")\n",
    "print(\"the end\")"
   ]
  },
  {
   "cell_type": "markdown",
   "id": "af3a8db0",
   "metadata": {},
   "source": [
    "# Handling multiple conditions using if-elif"
   ]
  },
  {
   "cell_type": "code",
   "execution_count": 1,
   "id": "fbff9cab",
   "metadata": {},
   "outputs": [
    {
     "name": "stdout",
     "output_type": "stream",
     "text": [
      "what is the capital of india\n",
      "you are correct\n"
     ]
    }
   ],
   "source": [
    "print(\"what is the capital of india\")\n",
    "answer = input(\"answer\")\n",
    "if answer == \"delhi\": \n",
    "    print(\"you are correct\")\n",
    "if answer == \"new delhi\":\n",
    "    print(\"you are very correct\")\n",
    "if answer == \"i dont know\":\n",
    "    print(\"u must be sleepin under a rock\")\n",
    "if answer == \"shimla\":\n",
    "    print(\"you mustbe from Britain\")\n"
   ]
  },
  {
   "cell_type": "code",
   "execution_count": 13,
   "id": "90a8ef77",
   "metadata": {},
   "outputs": [
    {
     "name": "stdout",
     "output_type": "stream",
     "text": [
      "Your Failed 🎂\n"
     ]
    }
   ],
   "source": [
    "Marks=int(input(\"Enter Your Maths Marks in 10:\"))\n",
    "if Marks > 90:\n",
    "    print(\"Your Grade Is A\")\n",
    "if Marks > 75 and Marks<=89:\n",
    "    print(\"Your Grade Is B\")\n",
    "if Marks > 60 and Marks <=74:\n",
    "    print(\"Your Grade Is C\")\n",
    "if Marks > 40 and Marks <=59:\n",
    "    print(\"Your Grade Is D\")\n",
    "if Marks < 40:\n",
    "    print(\"Your Failed 🎂\")\n",
    "\n"
   ]
  },
  {
   "cell_type": "code",
   "execution_count": 14,
   "id": "2231ae6c",
   "metadata": {},
   "outputs": [
    {
     "name": "stdout",
     "output_type": "stream",
     "text": [
      "Your Failed 🎂\n"
     ]
    }
   ],
   "source": [
    "Marks=int(input(\"Enter Your Maths Marks in 10:\"))\n",
    "if Marks > 90:\n",
    "    print(\"Your Grade Is A\")\n",
    "elif Marks > 75:\n",
    "    print(\"Your Grade Is B\")\n",
    "elif Marks > 60:\n",
    "    print(\"Your Grade Is C\")\n",
    "elif Marks > 40:\n",
    "    print(\"Your Grade Is D\")\n",
    "elif Marks < 40:\n",
    "    print(\"Your Failed 🎂\")"
   ]
  },
  {
   "cell_type": "code",
   "execution_count": 16,
   "id": "cf0f7670",
   "metadata": {},
   "outputs": [],
   "source": [
    "# salary calcuator \n",
    "salary=int(input(\"Enter your frnds salary:\"))\n",
    "if salary>100000:\n",
    "    total=salary-salary* .2# frnds tax 20%\n",
    "elif salary>80000:\n",
    "    total=salary-salary*.1\n",
    "elif salary>5000:\n",
    "    total=salary-salary*.05\n",
    "else:\n",
    "    total = salary+10000\n",
    "    print(f'friends salary=>{salary}')\n",
    "    print(f'friends total=>{total}')\n"
   ]
  },
  {
   "cell_type": "code",
   "execution_count": 25,
   "id": "b94144ca",
   "metadata": {},
   "outputs": [
    {
     "name": "stdout",
     "output_type": "stream",
     "text": [
      "Holiday\n"
     ]
    }
   ],
   "source": [
    "day = input(\"What is the day today?\")\n",
    "match day:\n",
    "    case \"Monday\": print(\"Today is Monday! Boring\")\n",
    "    case \"Sunday\": print(\"Holiday\")\n",
    "    case \"Friday\": print(\"Waiting for the weekend\")\n",
    "    case \"Saturday\": print(\"The best day of the weekend\")\n",
    "    case default: print(\"its not an option\")\n",
    "    "
   ]
  },
  {
   "cell_type": "code",
   "execution_count": 29,
   "id": "03b846c0",
   "metadata": {},
   "outputs": [
    {
     "name": "stdout",
     "output_type": "stream",
     "text": [
      "tell me some movies\n",
      "Adam Project, Nimona, Interstellar\n"
     ]
    }
   ],
   "source": [
    "print(\"tell me some movies\")\n",
    "gener=input(\"what gener do you like?\")\n",
    "match gener:\n",
    "    case \"action\":\n",
    "        print(\"Avengers, Deadpool, Fast&furious\")\n",
    "    case \"horror\":\n",
    "        print(\"IT, Arundathi, Nun\")\n",
    "    case \"family\":\n",
    "        print(\"Kalisindamraa, Santhosam, Raja\")\n",
    "    case \"sci-fi\" | \"comedy\":\n",
    "        print(\"Adam Project, Nimona, Interstellar\")\n",
    "    case \"default\":\n",
    "        print(\"you dont watch any movies\")"
   ]
  },
  {
   "cell_type": "markdown",
   "id": "cad78535",
   "metadata": {},
   "source": [
    "# nested if\n",
    "\n",
    "if cond\n",
    "    if cond\n",
    "        if cond\n",
    "            statement\n",
    "        else:\n",
    "            statement\n",
    "    else: \n",
    "        statement\n",
    "else:\n",
    "    statement\n",
    "    \n"
   ]
  },
  {
   "cell_type": "markdown",
   "id": "657f5978",
   "metadata": {},
   "source": []
  },
  {
   "cell_type": "code",
   "execution_count": null,
   "id": "e87dbd2c",
   "metadata": {},
   "outputs": [],
   "source": []
  },
  {
   "cell_type": "code",
   "execution_count": null,
   "id": "5e3aca29",
   "metadata": {},
   "outputs": [],
   "source": []
  }
 ],
 "metadata": {
  "kernelspec": {
   "display_name": "Python 3",
   "language": "python",
   "name": "python3"
  },
  "language_info": {
   "codemirror_mode": {
    "name": "ipython",
    "version": 3
   },
   "file_extension": ".py",
   "mimetype": "text/x-python",
   "name": "python",
   "nbconvert_exporter": "python",
   "pygments_lexer": "ipython3",
   "version": "3.13.6"
  }
 },
 "nbformat": 4,
 "nbformat_minor": 5
}
