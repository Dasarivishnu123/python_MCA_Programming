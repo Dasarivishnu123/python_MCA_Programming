{
 "cells": [
  {
   "cell_type": "code",
   "execution_count": 1,
   "id": "a4fc0883",
   "metadata": {},
   "outputs": [
    {
     "name": "stdout",
     "output_type": "stream",
     "text": [
      "['pushpa', 'kalki', 'bommarillu', 'santosham', 'nuvunakunachav', 'aarya', 'julay', 'gangothri', 'paradise', 'satyamurthi', 'lucky bhaskar', 'kalisundam raa', 'ninne pelladutha', 'preminchukundam raa']\n",
      "[6, 5, 10, 9, 14, 5, 5, 9, 8, 11, 13, 14, 16, 19]\n"
     ]
    }
   ],
   "source": [
    "movies=['pushpa','kalki','bommarillu','santosham','nuvunakunachav','aarya','julay','gangothri','paradise','satyamurthi','lucky bhaskar','kalisundam raa','ninne pelladutha','preminchukundam raa',]\n",
    "movielen=[]\n",
    "for movie in movies:\n",
    "    size=len(movie)\n",
    "    movielen.append(size)\n",
    "print(movies)\n",
    "print(movielen)"
   ]
  },
  {
   "cell_type": "code",
   "execution_count": 2,
   "id": "340af9c7",
   "metadata": {},
   "outputs": [
    {
     "name": "stdout",
     "output_type": "stream",
     "text": [
      "['pushpa', 'kalki', 'bommarillu', 'santosham', 'nuvunakunachav', 'aarya', 'julay', 'gangothri', 'paradise', 'satyamurthi', 'lucky bhaskar', 'kalisundam raa', 'ninne pelladutha', 'preminchukundam raa']\n",
      "[6, 5, 10, 9, 14, 5, 5, 9, 8, 11, 13, 14, 16, 19]\n"
     ]
    }
   ],
   "source": [
    "movielen=[len(movie) for movie in movies]\n",
    "print(movies)\n",
    "print(movielen)"
   ]
  },
  {
   "cell_type": "code",
   "execution_count": 4,
   "id": "bd6e9133",
   "metadata": {},
   "outputs": [
    {
     "data": {
      "text/plain": [
       "['pushpa',\n",
       " 'kalki',\n",
       " 'bommarillu',\n",
       " 'santosham',\n",
       " 'nuvunakunachav',\n",
       " 'aarya',\n",
       " 'julay',\n",
       " 'gangothri',\n",
       " 'paradise',\n",
       " 'satyamurthi',\n",
       " 'lucky bhaskar',\n",
       " 'kalisundam raa',\n",
       " 'ninne pelladutha',\n",
       " 'preminchukundam raa']"
      ]
     },
     "execution_count": 4,
     "metadata": {},
     "output_type": "execute_result"
    }
   ],
   "source": [
    "movies=['pushpa','kalki','bommarillu','santosham','nuvunakunachav','aarya','julay','gangothri',\n",
    "        'paradise','satyamurthi','lucky bhaskar','kalisundam raa','ninne pelladutha','preminchukundam raa',\n",
    "        ]\n",
    "\n",
    "movies"
   ]
  },
  {
   "cell_type": "code",
   "execution_count": 7,
   "id": "6c0d3a9e",
   "metadata": {},
   "outputs": [
    {
     "name": "stdout",
     "output_type": "stream",
     "text": [
      "['pushpa', 'kalki', 'bommarillu', 'santosham', 'nuvunakunachav', 'aarya', 'julay', 'gangothri', 'paradise', 'satyamurthi', 'lucky bhaskar', 'kalisundam raa', 'ninne pelladutha', 'preminchukundam raa']\n",
      "['PUSHPA', 'KALKI', 'BOMMARILLU', 'SANTOSHAM', 'NUVUNAKUNACHAV', 'AARYA', 'JULAY', 'GANGOTHRI', 'PARADISE', 'SATYAMURTHI', 'LUCKY BHASKAR', 'KALISUNDAM RAA', 'NINNE PELLADUTHA', 'PREMINCHUKUNDAM RAA']\n"
     ]
    }
   ],
   "source": [
    "movies_caps = []\n",
    "for movie in movies:\n",
    "    name=movie.upper()\n",
    "    movies_caps.append(name)\n",
    "print(movies)\n",
    "print(movies_caps)"
   ]
  },
  {
   "cell_type": "code",
   "execution_count": 8,
   "id": "fcaf7b36",
   "metadata": {},
   "outputs": [
    {
     "name": "stdout",
     "output_type": "stream",
     "text": [
      "['pushpa', 'kalki', 'bommarillu', 'santosham', 'nuvunakunachav', 'aarya', 'julay', 'gangothri', 'paradise', 'satyamurthi', 'lucky bhaskar', 'kalisundam raa', 'ninne pelladutha', 'preminchukundam raa']\n",
      "['PUSHPA', 'KALKI', 'BOMMARILLU', 'SANTOSHAM', 'NUVUNAKUNACHAV', 'AARYA', 'JULAY', 'GANGOTHRI', 'PARADISE', 'SATYAMURTHI', 'LUCKY BHASKAR', 'KALISUNDAM RAA', 'NINNE PELLADUTHA', 'PREMINCHUKUNDAM RAA']\n"
     ]
    }
   ],
   "source": [
    "movies_caps =[movie.upper()for movie in movies]\n",
    "print(movies)\n",
    "print(movies_caps)"
   ]
  },
  {
   "cell_type": "code",
   "execution_count": 11,
   "id": "e2e47212",
   "metadata": {},
   "outputs": [
    {
     "name": "stdout",
     "output_type": "stream",
     "text": [
      "['pushpa', 'kalki', 'bommarillu', 'santosham', 'nuvunakunachav', 'aarya', 'julay', 'gangothri', 'paradise', 'satyamurthi', 'lucky bhaskar', 'kalisundam raa', 'ninne pelladutha', 'preminchukundam raa']\n",
      "['bommarillu', 'santosham', 'gangothri']\n"
     ]
    }
   ],
   "source": [
    "movies_with_o = []\n",
    "for item in movies:\n",
    "    if'o'in item or 'o' in item:\n",
    "        movies_with_o.append(item)\n",
    "print(movies)\n",
    "print(movies_with_o)"
   ]
  },
  {
   "cell_type": "code",
   "execution_count": null,
   "id": "a61b9eaf",
   "metadata": {},
   "outputs": [],
   "source": []
  }
 ],
 "metadata": {
  "kernelspec": {
   "display_name": "Python 3",
   "language": "python",
   "name": "python3"
  },
  "language_info": {
   "codemirror_mode": {
    "name": "ipython",
    "version": 3
   },
   "file_extension": ".py",
   "mimetype": "text/x-python",
   "name": "python",
   "nbconvert_exporter": "python",
   "pygments_lexer": "ipython3",
   "version": "3.13.6"
  }
 },
 "nbformat": 4,
 "nbformat_minor": 5
}
