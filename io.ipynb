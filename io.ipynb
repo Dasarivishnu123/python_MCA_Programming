{
 "cells": [
  {
   "cell_type": "code",
   "execution_count": null,
   "id": "971ca07d",
   "metadata": {},
   "outputs": [],
   "source": [
    "name=\"Bruce wayne\"\n",
    "city=\"Gotham\""
   ]
  },
  {
   "cell_type": "code",
   "execution_count": null,
   "id": "ee06c96c",
   "metadata": {},
   "outputs": [],
   "source": [
    "name=\"Bruce wayne\"\n",
    "city=\"Gotham\""
   ]
  },
  {
   "cell_type": "code",
   "execution_count": 2,
   "id": "c914f3aa",
   "metadata": {},
   "outputs": [],
   "source": [
    "name=input()"
   ]
  },
  {
   "cell_type": "code",
   "execution_count": 3,
   "id": "bc419962",
   "metadata": {},
   "outputs": [
    {
     "ename": "NameError",
     "evalue": "name 'pythagroas' is not defined",
     "output_type": "error",
     "traceback": [
      "\u001b[31m---------------------------------------------------------------------------\u001b[39m",
      "\u001b[31mNameError\u001b[39m                                 Traceback (most recent call last)",
      "\u001b[36mCell\u001b[39m\u001b[36m \u001b[39m\u001b[32mIn[3]\u001b[39m\u001b[32m, line 1\u001b[39m\n\u001b[32m----> \u001b[39m\u001b[32m1\u001b[39m \u001b[43mpythagroas\u001b[49m()\n",
      "\u001b[31mNameError\u001b[39m: name 'pythagroas' is not defined"
     ]
    }
   ],
   "source": [
    "pythagroas()"
   ]
  },
  {
   "cell_type": "code",
   "execution_count": 4,
   "id": "a9adb967",
   "metadata": {},
   "outputs": [
    {
     "ename": "TypeError",
     "evalue": "sum() takes at least 1 positional argument (0 given)",
     "output_type": "error",
     "traceback": [
      "\u001b[31m---------------------------------------------------------------------------\u001b[39m",
      "\u001b[31mTypeError\u001b[39m                                 Traceback (most recent call last)",
      "\u001b[36mCell\u001b[39m\u001b[36m \u001b[39m\u001b[32mIn[4]\u001b[39m\u001b[32m, line 1\u001b[39m\n\u001b[32m----> \u001b[39m\u001b[32m1\u001b[39m \u001b[38;5;28;43msum\u001b[39;49m\u001b[43m(\u001b[49m\u001b[43m)\u001b[49m\n",
      "\u001b[31mTypeError\u001b[39m: sum() takes at least 1 positional argument (0 given)"
     ]
    }
   ],
   "source": [
    "sum()\n"
   ]
  },
  {
   "cell_type": "code",
   "execution_count": 10,
   "id": "f91efbd6",
   "metadata": {},
   "outputs": [
    {
     "name": "stdout",
     "output_type": "stream",
     "text": [
      "vishnudasari anantapura jntu road\n"
     ]
    }
   ],
   "source": [
    "name = input(\"enter name=>\")\n",
    "city = input(\"enter city=>\")\n",
    "addr = input(\"enter address=>\")\n",
    "print(name, city, addr)\n"
   ]
  },
  {
   "cell_type": "code",
   "execution_count": 12,
   "id": "f27365d1",
   "metadata": {},
   "outputs": [
    {
     "name": "stdout",
     "output_type": "stream",
     "text": [
      "10 20 30\n"
     ]
    }
   ],
   "source": [
    "a=10\n",
    "b=20\n",
    "c=a+b\n",
    "print(a,b,c)"
   ]
  },
  {
   "cell_type": "code",
   "execution_count": 15,
   "id": "117002b0",
   "metadata": {},
   "outputs": [
    {
     "name": "stdout",
     "output_type": "stream",
     "text": [
      "2 1 22\n"
     ]
    }
   ],
   "source": [
    "a=input(\"Enter a\")\n",
    "b=input(\"Enter b\")\n",
    "c=input(\"a+b\")\n",
    "print(a,b,c)"
   ]
  },
  {
   "cell_type": "code",
   "execution_count": 16,
   "id": "e43958aa",
   "metadata": {},
   "outputs": [
    {
     "name": "stdout",
     "output_type": "stream",
     "text": [
      "20.0\n",
      "40.0\n",
      "125.60000000000001\n",
      "1256.0\n"
     ]
    }
   ],
   "source": [
    "radius=float(input(\"enter radius of circle\"))\n",
    "diameter = radius * 2\n",
    "circumference = 2*3.14*radius\n",
    "area=3.14*radius**2\n",
    "\n",
    "print(radius)\n",
    "print(diameter)\n",
    "print(circumference)\n",
    "print(area)"
   ]
  },
  {
   "cell_type": "code",
   "execution_count": 21,
   "id": "cf3c447f",
   "metadata": {},
   "outputs": [
    {
     "name": "stdout",
     "output_type": "stream",
     "text": [
      "23000\n",
      "25000\n",
      "14000\n",
      "80500000000.0\n"
     ]
    }
   ],
   "source": [
    "p = 23000\n",
    "r = 25000\n",
    "t = 14000\n",
    "si = p*r*t/100\n",
    "print(p)\n",
    "print(r)\n",
    "print(t)\n",
    "print(si)"
   ]
  },
  {
   "cell_type": "code",
   "execution_count": 23,
   "id": "eafd70fc",
   "metadata": {},
   "outputs": [
    {
     "name": "stdout",
     "output_type": "stream",
     "text": [
      "40000\n",
      "3.0\n",
      "34\n",
      "40800.0\n"
     ]
    }
   ],
   "source": [
    "p = int(input(\"enter the value of principal\" ))\n",
    "r = float(input(\"enter the value of rate of instrest\"))\n",
    "t = int(input(\"enter the value of time\"))\n",
    "si = p*r*t/100\n",
    "print(p)\n",
    "print(r)\n",
    "print(t)\n",
    "print(si)"
   ]
  },
  {
   "cell_type": "code",
   "execution_count": null,
   "id": "bbe0f2fd",
   "metadata": {},
   "outputs": [],
   "source": [
    "pi = 3.14"
   ]
  },
  {
   "cell_type": "code",
   "execution_count": 2,
   "id": "a4406b16",
   "metadata": {},
   "outputs": [
    {
     "name": "stdout",
     "output_type": "stream",
     "text": [
      "1 2 3 4 5\n",
      "1234\n",
      "1,2,3,4,5,6\n",
      "1⏮️2⏮️3⏮️4⏮️5⏮️6\n",
      "1\n",
      "2\n",
      "3\n",
      "4\n",
      "5\n",
      "1hello world2hello world3hello world4hello world5\n"
     ]
    }
   ],
   "source": [
    "print(1,2,3,4,5)\n",
    "print(1,2,3,4, sep=\"\")\n",
    "print(1,2,3,4,5,6, sep=\",\")\n",
    "print(1,2,3,4,5,6, sep='⏮️')\n",
    "print(1,2,3,4,5, sep=\"\\n\")\n",
    "print(1,2,3,4,5, sep=\"hello world\")"
   ]
  },
  {
   "cell_type": "code",
   "execution_count": 6,
   "id": "41c8e324",
   "metadata": {},
   "outputs": [
    {
     "name": "stdout",
     "output_type": "stream",
     "text": [
      "Answer 130\n"
     ]
    }
   ],
   "source": [
    "a=100\n",
    "b=30\n",
    "c=a+b\n",
    "print(\"Answer\",c )"
   ]
  },
  {
   "cell_type": "code",
   "execution_count": null,
   "id": "839735ad",
   "metadata": {},
   "outputs": [],
   "source": [
    "p=20\n",
    "b=10\n",
    "h=(p**2+b**2)\n",
    "print(\"calculation of hypotenuse\")\n",
    "print(f\"perpendicular => {p}\")\n",
    "print(f'Base => {b}')\n"
   ]
  }
 ],
 "metadata": {
  "kernelspec": {
   "display_name": "Python 3",
   "language": "python",
   "name": "python3"
  },
  "language_info": {
   "codemirror_mode": {
    "name": "ipython",
    "version": 3
   },
   "file_extension": ".py",
   "mimetype": "text/x-python",
   "name": "python",
   "nbconvert_exporter": "python",
   "pygments_lexer": "ipython3",
   "version": "3.13.6"
  }
 },
 "nbformat": 4,
 "nbformat_minor": 5
}
